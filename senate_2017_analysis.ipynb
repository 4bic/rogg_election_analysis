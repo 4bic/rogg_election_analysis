{
 "cells": [
  {
   "cell_type": "code",
   "execution_count": 1,
   "metadata": {},
   "outputs": [],
   "source": [
    "import numpy as np\n",
    "import pandas as pd \n",
    "import matplotlib.pyplot as plt \n",
    "import seaborn as sns \n",
    "%matplotlib inline "
   ]
  },
  {
   "cell_type": "markdown",
   "metadata": {},
   "source": [
    "##  load data"
   ]
  },
  {
   "cell_type": "code",
   "execution_count": 2,
   "metadata": {},
   "outputs": [],
   "source": [
    "df_2013 = pd.read_csv('2013_final/senate_2013.csv') #2013 winners"
   ]
  },
  {
   "cell_type": "code",
   "execution_count": 3,
   "metadata": {},
   "outputs": [],
   "source": [
    "df_nom = pd.read_csv('nominations_data/senate_nom.csv') # Primary candidates vying for nominations"
   ]
  },
  {
   "cell_type": "code",
   "execution_count": 4,
   "metadata": {},
   "outputs": [],
   "source": [
    "df_cand = pd.read_csv('candidates_data/senate_2017.csv') #Party candidate / Independent"
   ]
  },
  {
   "cell_type": "code",
   "execution_count": 5,
   "metadata": {},
   "outputs": [],
   "source": [
    "df_2017 = pd.read_csv('2017_final/senate_2017.csv') # 2017 winners"
   ]
  },
  {
   "cell_type": "markdown",
   "metadata": {},
   "source": [
    "## Clean 2013 Data"
   ]
  },
  {
   "cell_type": "code",
   "execution_count": 6,
   "metadata": {},
   "outputs": [
    {
     "data": {
      "text/html": [
       "<div>\n",
       "<style>\n",
       "    .dataframe thead tr:only-child th {\n",
       "        text-align: right;\n",
       "    }\n",
       "\n",
       "    .dataframe thead th {\n",
       "        text-align: left;\n",
       "    }\n",
       "\n",
       "    .dataframe tbody tr th {\n",
       "        vertical-align: top;\n",
       "    }\n",
       "</style>\n",
       "<table border=\"1\" class=\"dataframe\">\n",
       "  <thead>\n",
       "    <tr style=\"text-align: right;\">\n",
       "      <th></th>\n",
       "      <th>County Code</th>\n",
       "      <th>Unnamed: 1</th>\n",
       "      <th>Unnamed: 2</th>\n",
       "      <th>Unnamed: 3</th>\n",
       "      <th>County Name</th>\n",
       "      <th>Unnamed: 5</th>\n",
       "      <th>Unnamed: 6</th>\n",
       "      <th>Unnamed: 7</th>\n",
       "      <th>Unnamed: 8</th>\n",
       "      <th>Unnamed: 9</th>\n",
       "      <th>...</th>\n",
       "      <th>Unnamed: 11</th>\n",
       "      <th>Unnamed: 12</th>\n",
       "      <th>Unnamed: 13</th>\n",
       "      <th>Unnamed: 14</th>\n",
       "      <th>Unnamed: 15</th>\n",
       "      <th>Unnamed: 16</th>\n",
       "      <th>Full Names B</th>\n",
       "      <th>Unnamed: 18</th>\n",
       "      <th>Unnamed: 19</th>\n",
       "      <th>Party/Independent Candidate</th>\n",
       "    </tr>\n",
       "  </thead>\n",
       "  <tbody>\n",
       "    <tr>\n",
       "      <th>0</th>\n",
       "      <td>1</td>\n",
       "      <td>NaN</td>\n",
       "      <td>NaN</td>\n",
       "      <td>NaN</td>\n",
       "      <td>Mombasa</td>\n",
       "      <td>NaN</td>\n",
       "      <td>NaN</td>\n",
       "      <td>NaN</td>\n",
       "      <td>NaN</td>\n",
       "      <td>NaN</td>\n",
       "      <td>...</td>\n",
       "      <td>NaN</td>\n",
       "      <td>NaN</td>\n",
       "      <td>NaN</td>\n",
       "      <td>NaN</td>\n",
       "      <td>NaN</td>\n",
       "      <td>NaN</td>\n",
       "      <td>Hassan</td>\n",
       "      <td>NaN</td>\n",
       "      <td>NaN</td>\n",
       "      <td>Wiper Democratic Movement- Kenya</td>\n",
       "    </tr>\n",
       "    <tr>\n",
       "      <th>1</th>\n",
       "      <td>2</td>\n",
       "      <td>NaN</td>\n",
       "      <td>NaN</td>\n",
       "      <td>NaN</td>\n",
       "      <td>Kwale</td>\n",
       "      <td>NaN</td>\n",
       "      <td>NaN</td>\n",
       "      <td>NaN</td>\n",
       "      <td>NaN</td>\n",
       "      <td>NaN</td>\n",
       "      <td>...</td>\n",
       "      <td>NaN</td>\n",
       "      <td>NaN</td>\n",
       "      <td>NaN</td>\n",
       "      <td>NaN</td>\n",
       "      <td>NaN</td>\n",
       "      <td>NaN</td>\n",
       "      <td>Boy</td>\n",
       "      <td>NaN</td>\n",
       "      <td>NaN</td>\n",
       "      <td>Orange Democratic Movement</td>\n",
       "    </tr>\n",
       "  </tbody>\n",
       "</table>\n",
       "<p>2 rows × 21 columns</p>\n",
       "</div>"
      ],
      "text/plain": [
       "   County Code  Unnamed: 1  Unnamed: 2  Unnamed: 3 County Name  Unnamed: 5  \\\n",
       "0            1         NaN         NaN         NaN     Mombasa         NaN   \n",
       "1            2         NaN         NaN         NaN       Kwale         NaN   \n",
       "\n",
       "   Unnamed: 6  Unnamed: 7  Unnamed: 8  Unnamed: 9  \\\n",
       "0         NaN         NaN         NaN         NaN   \n",
       "1         NaN         NaN         NaN         NaN   \n",
       "\n",
       "                 ...                Unnamed: 11  Unnamed: 12  Unnamed: 13  \\\n",
       "0                ...                        NaN          NaN          NaN   \n",
       "1                ...                        NaN          NaN          NaN   \n",
       "\n",
       "   Unnamed: 14  Unnamed: 15  Unnamed: 16  Full Names B Unnamed: 18  \\\n",
       "0          NaN          NaN          NaN        Hassan         NaN   \n",
       "1          NaN          NaN          NaN           Boy         NaN   \n",
       "\n",
       "   Unnamed: 19       Party/Independent Candidate  \n",
       "0          NaN  Wiper Democratic Movement- Kenya  \n",
       "1          NaN        Orange Democratic Movement  \n",
       "\n",
       "[2 rows x 21 columns]"
      ]
     },
     "execution_count": 6,
     "metadata": {},
     "output_type": "execute_result"
    }
   ],
   "source": [
    "df_2013.head(2)"
   ]
  },
  {
   "cell_type": "code",
   "execution_count": 7,
   "metadata": {},
   "outputs": [],
   "source": [
    "df_2013.dropna(axis=1,inplace=True)"
   ]
  },
  {
   "cell_type": "markdown",
   "metadata": {},
   "source": [
    "### join first and last names"
   ]
  },
  {
   "cell_type": "code",
   "execution_count": 8,
   "metadata": {},
   "outputs": [],
   "source": [
    "df_2013['name'] = df_2013[['Full Names A','Full Names B']].apply(lambda x: ' '.join(x), axis=1).str.lower()"
   ]
  },
  {
   "cell_type": "code",
   "execution_count": 9,
   "metadata": {},
   "outputs": [],
   "source": [
    "df_2013 = df_2013[['County Code','County Name','name', 'Party/Independent Candidate']]"
   ]
  },
  {
   "cell_type": "code",
   "execution_count": 10,
   "metadata": {},
   "outputs": [],
   "source": [
    "df_2013.columns = ['c_code','county','name','party']"
   ]
  },
  {
   "cell_type": "code",
   "execution_count": 11,
   "metadata": {
    "scrolled": false
   },
   "outputs": [
    {
     "data": {
      "text/html": [
       "<div>\n",
       "<style>\n",
       "    .dataframe thead tr:only-child th {\n",
       "        text-align: right;\n",
       "    }\n",
       "\n",
       "    .dataframe thead th {\n",
       "        text-align: left;\n",
       "    }\n",
       "\n",
       "    .dataframe tbody tr th {\n",
       "        vertical-align: top;\n",
       "    }\n",
       "</style>\n",
       "<table border=\"1\" class=\"dataframe\">\n",
       "  <thead>\n",
       "    <tr style=\"text-align: right;\">\n",
       "      <th></th>\n",
       "      <th>c_code</th>\n",
       "      <th>county</th>\n",
       "      <th>name</th>\n",
       "      <th>party</th>\n",
       "    </tr>\n",
       "  </thead>\n",
       "  <tbody>\n",
       "    <tr>\n",
       "      <th>0</th>\n",
       "      <td>1</td>\n",
       "      <td>Mombasa</td>\n",
       "      <td>hassan omar hassan</td>\n",
       "      <td>Wiper Democratic Movement- Kenya</td>\n",
       "    </tr>\n",
       "    <tr>\n",
       "      <th>1</th>\n",
       "      <td>2</td>\n",
       "      <td>Kwale</td>\n",
       "      <td>boy juma boy</td>\n",
       "      <td>Orange Democratic Movement</td>\n",
       "    </tr>\n",
       "    <tr>\n",
       "      <th>2</th>\n",
       "      <td>3</td>\n",
       "      <td>Kilifi</td>\n",
       "      <td>stewart mwachiru shadrack madzayo</td>\n",
       "      <td>Orange Democratic Movement</td>\n",
       "    </tr>\n",
       "  </tbody>\n",
       "</table>\n",
       "</div>"
      ],
      "text/plain": [
       "   c_code   county                               name  \\\n",
       "0       1  Mombasa                 hassan omar hassan   \n",
       "1       2    Kwale                       boy juma boy   \n",
       "2       3   Kilifi  stewart mwachiru shadrack madzayo   \n",
       "\n",
       "                              party  \n",
       "0  Wiper Democratic Movement- Kenya  \n",
       "1        Orange Democratic Movement  \n",
       "2        Orange Democratic Movement  "
      ]
     },
     "execution_count": 11,
     "metadata": {},
     "output_type": "execute_result"
    }
   ],
   "source": [
    "df_2013.head(3)"
   ]
  },
  {
   "cell_type": "code",
   "execution_count": 12,
   "metadata": {},
   "outputs": [
    {
     "name": "stdout",
     "output_type": "stream",
     "text": [
      "<class 'pandas.core.frame.DataFrame'>\n",
      "RangeIndex: 47 entries, 0 to 46\n",
      "Data columns (total 4 columns):\n",
      "c_code    47 non-null int64\n",
      "county    47 non-null object\n",
      "name      47 non-null object\n",
      "party     47 non-null object\n",
      "dtypes: int64(1), object(3)\n",
      "memory usage: 1.5+ KB\n"
     ]
    }
   ],
   "source": [
    "df_2013.info()"
   ]
  },
  {
   "cell_type": "markdown",
   "metadata": {},
   "source": [
    "## Clean 2017 Data"
   ]
  },
  {
   "cell_type": "code",
   "execution_count": 13,
   "metadata": {},
   "outputs": [
    {
     "data": {
      "text/html": [
       "<div>\n",
       "<style>\n",
       "    .dataframe thead tr:only-child th {\n",
       "        text-align: right;\n",
       "    }\n",
       "\n",
       "    .dataframe thead th {\n",
       "        text-align: left;\n",
       "    }\n",
       "\n",
       "    .dataframe tbody tr th {\n",
       "        vertical-align: top;\n",
       "    }\n",
       "</style>\n",
       "<table border=\"1\" class=\"dataframe\">\n",
       "  <thead>\n",
       "    <tr style=\"text-align: right;\">\n",
       "      <th></th>\n",
       "      <th>c_code</th>\n",
       "      <th>county</th>\n",
       "      <th>name</th>\n",
       "      <th>gender</th>\n",
       "      <th>birth_date</th>\n",
       "      <th>party_name</th>\n",
       "      <th>elected</th>\n",
       "    </tr>\n",
       "  </thead>\n",
       "  <tbody>\n",
       "    <tr>\n",
       "      <th>0</th>\n",
       "      <td>30</td>\n",
       "      <td>Baringo</td>\n",
       "      <td>Gideon Kipsielei Towett Moi</td>\n",
       "      <td>Male</td>\n",
       "      <td>NaN</td>\n",
       "      <td>Kenya African National Union</td>\n",
       "      <td>True</td>\n",
       "    </tr>\n",
       "    <tr>\n",
       "      <th>1</th>\n",
       "      <td>36</td>\n",
       "      <td>Bomet</td>\n",
       "      <td>Christopher Andrew Langat</td>\n",
       "      <td>Male</td>\n",
       "      <td>NaN</td>\n",
       "      <td>Jubilee Party</td>\n",
       "      <td>True</td>\n",
       "    </tr>\n",
       "  </tbody>\n",
       "</table>\n",
       "</div>"
      ],
      "text/plain": [
       "   c_code   county                         name gender birth_date  \\\n",
       "0      30  Baringo  Gideon Kipsielei Towett Moi   Male        NaN   \n",
       "1      36    Bomet    Christopher Andrew Langat   Male        NaN   \n",
       "\n",
       "                     party_name  elected  \n",
       "0  Kenya African National Union     True  \n",
       "1                 Jubilee Party     True  "
      ]
     },
     "execution_count": 13,
     "metadata": {},
     "output_type": "execute_result"
    }
   ],
   "source": [
    "df_2017.head(2)"
   ]
  },
  {
   "cell_type": "code",
   "execution_count": 14,
   "metadata": {},
   "outputs": [],
   "source": [
    "df_2017.columns = ['c_code','county','name','gender', 'dob', 'party','elected']"
   ]
  },
  {
   "cell_type": "code",
   "execution_count": 15,
   "metadata": {},
   "outputs": [],
   "source": [
    "df_2017['name'] = df_2017['name'].str.lower()"
   ]
  },
  {
   "cell_type": "code",
   "execution_count": 16,
   "metadata": {},
   "outputs": [
    {
     "data": {
      "text/html": [
       "<div>\n",
       "<style>\n",
       "    .dataframe thead tr:only-child th {\n",
       "        text-align: right;\n",
       "    }\n",
       "\n",
       "    .dataframe thead th {\n",
       "        text-align: left;\n",
       "    }\n",
       "\n",
       "    .dataframe tbody tr th {\n",
       "        vertical-align: top;\n",
       "    }\n",
       "</style>\n",
       "<table border=\"1\" class=\"dataframe\">\n",
       "  <thead>\n",
       "    <tr style=\"text-align: right;\">\n",
       "      <th></th>\n",
       "      <th>c_code</th>\n",
       "      <th>county</th>\n",
       "      <th>name</th>\n",
       "      <th>gender</th>\n",
       "      <th>dob</th>\n",
       "      <th>party</th>\n",
       "      <th>elected</th>\n",
       "    </tr>\n",
       "  </thead>\n",
       "  <tbody>\n",
       "    <tr>\n",
       "      <th>0</th>\n",
       "      <td>30</td>\n",
       "      <td>Baringo</td>\n",
       "      <td>gideon kipsielei towett moi</td>\n",
       "      <td>Male</td>\n",
       "      <td>NaN</td>\n",
       "      <td>Kenya African National Union</td>\n",
       "      <td>True</td>\n",
       "    </tr>\n",
       "    <tr>\n",
       "      <th>1</th>\n",
       "      <td>36</td>\n",
       "      <td>Bomet</td>\n",
       "      <td>christopher andrew langat</td>\n",
       "      <td>Male</td>\n",
       "      <td>NaN</td>\n",
       "      <td>Jubilee Party</td>\n",
       "      <td>True</td>\n",
       "    </tr>\n",
       "  </tbody>\n",
       "</table>\n",
       "</div>"
      ],
      "text/plain": [
       "   c_code   county                         name gender  dob  \\\n",
       "0      30  Baringo  gideon kipsielei towett moi   Male  NaN   \n",
       "1      36    Bomet    christopher andrew langat   Male  NaN   \n",
       "\n",
       "                          party  elected  \n",
       "0  Kenya African National Union     True  \n",
       "1                 Jubilee Party     True  "
      ]
     },
     "execution_count": 16,
     "metadata": {},
     "output_type": "execute_result"
    }
   ],
   "source": [
    "df_2017.head(2)"
   ]
  },
  {
   "cell_type": "code",
   "execution_count": 17,
   "metadata": {},
   "outputs": [
    {
     "name": "stdout",
     "output_type": "stream",
     "text": [
      "<class 'pandas.core.frame.DataFrame'>\n",
      "RangeIndex: 47 entries, 0 to 46\n",
      "Data columns (total 7 columns):\n",
      "c_code     47 non-null int64\n",
      "county     47 non-null object\n",
      "name       47 non-null object\n",
      "gender     47 non-null object\n",
      "dob        8 non-null object\n",
      "party      47 non-null object\n",
      "elected    47 non-null bool\n",
      "dtypes: bool(1), int64(1), object(5)\n",
      "memory usage: 2.3+ KB\n"
     ]
    }
   ],
   "source": [
    "df_2017.info()"
   ]
  },
  {
   "cell_type": "markdown",
   "metadata": {},
   "source": [
    "## Clean Nomination 2017 Data"
   ]
  },
  {
   "cell_type": "code",
   "execution_count": 18,
   "metadata": {},
   "outputs": [
    {
     "data": {
      "text/html": [
       "<div>\n",
       "<style>\n",
       "    .dataframe thead tr:only-child th {\n",
       "        text-align: right;\n",
       "    }\n",
       "\n",
       "    .dataframe thead th {\n",
       "        text-align: left;\n",
       "    }\n",
       "\n",
       "    .dataframe tbody tr th {\n",
       "        vertical-align: top;\n",
       "    }\n",
       "</style>\n",
       "<table border=\"1\" class=\"dataframe\">\n",
       "  <thead>\n",
       "    <tr style=\"text-align: right;\">\n",
       "      <th></th>\n",
       "      <th>County\n",
       "Code</th>\n",
       "      <th>County Name</th>\n",
       "      <th>Surname</th>\n",
       "      <th>Other Name</th>\n",
       "      <th>ID. No.</th>\n",
       "      <th>YOB</th>\n",
       "      <th>PWD</th>\n",
       "      <th>Gender</th>\n",
       "      <th>Party</th>\n",
       "      <th>Party_abv</th>\n",
       "    </tr>\n",
       "  </thead>\n",
       "  <tbody>\n",
       "    <tr>\n",
       "      <th>0</th>\n",
       "      <td>1</td>\n",
       "      <td>Mombasa</td>\n",
       "      <td>Kassim</td>\n",
       "      <td>Abdusalaam Ali</td>\n",
       "      <td>10093749</td>\n",
       "      <td>1/1/1970</td>\n",
       "      <td>No</td>\n",
       "      <td>Male</td>\n",
       "      <td>JUBILEE PARTY</td>\n",
       "      <td>JP</td>\n",
       "    </tr>\n",
       "    <tr>\n",
       "      <th>1</th>\n",
       "      <td>1</td>\n",
       "      <td>Mombasa</td>\n",
       "      <td>Swabir</td>\n",
       "      <td>Abuubakar Mahadhi</td>\n",
       "      <td>30474451</td>\n",
       "      <td>8/13/1992</td>\n",
       "      <td>No</td>\n",
       "      <td>Male</td>\n",
       "      <td>JUBILEE PARTY</td>\n",
       "      <td>JP</td>\n",
       "    </tr>\n",
       "    <tr>\n",
       "      <th>2</th>\n",
       "      <td>1</td>\n",
       "      <td>Mombasa</td>\n",
       "      <td>Katana</td>\n",
       "      <td>Hazel Nyamoki</td>\n",
       "      <td>6729577</td>\n",
       "      <td>4/1/1959</td>\n",
       "      <td>No</td>\n",
       "      <td>Female</td>\n",
       "      <td>JUBILEE PARTY</td>\n",
       "      <td>JP</td>\n",
       "    </tr>\n",
       "  </tbody>\n",
       "</table>\n",
       "</div>"
      ],
      "text/plain": [
       "   County\\nCode County Name Surname         Other Name   ID. No.        YOB  \\\n",
       "0             1     Mombasa  Kassim     Abdusalaam Ali  10093749   1/1/1970   \n",
       "1             1     Mombasa  Swabir  Abuubakar Mahadhi  30474451  8/13/1992   \n",
       "2             1     Mombasa  Katana      Hazel Nyamoki   6729577   4/1/1959   \n",
       "\n",
       "  PWD  Gender          Party Party_abv  \n",
       "0  No    Male  JUBILEE PARTY        JP  \n",
       "1  No    Male  JUBILEE PARTY        JP  \n",
       "2  No  Female  JUBILEE PARTY        JP  "
      ]
     },
     "execution_count": 18,
     "metadata": {},
     "output_type": "execute_result"
    }
   ],
   "source": [
    "df_nom.head(3)"
   ]
  },
  {
   "cell_type": "code",
   "execution_count": 19,
   "metadata": {},
   "outputs": [],
   "source": [
    "df_nom['name'] = df_nom[['Other Name','Surname']].apply(lambda x: ' '.join(x), axis=1).str.lower()\n",
    "df_nom['County Name'] = df_nom['County Name'].str.lower()\n",
    "df_nom['Gender'] = df_nom['Gender'].str.lower()"
   ]
  },
  {
   "cell_type": "code",
   "execution_count": 20,
   "metadata": {},
   "outputs": [],
   "source": [
    "df_nom = df_nom.drop(['Surname','Other Name'],axis=1)"
   ]
  },
  {
   "cell_type": "code",
   "execution_count": 21,
   "metadata": {},
   "outputs": [
    {
     "data": {
      "text/html": [
       "<div>\n",
       "<style>\n",
       "    .dataframe thead tr:only-child th {\n",
       "        text-align: right;\n",
       "    }\n",
       "\n",
       "    .dataframe thead th {\n",
       "        text-align: left;\n",
       "    }\n",
       "\n",
       "    .dataframe tbody tr th {\n",
       "        vertical-align: top;\n",
       "    }\n",
       "</style>\n",
       "<table border=\"1\" class=\"dataframe\">\n",
       "  <thead>\n",
       "    <tr style=\"text-align: right;\">\n",
       "      <th></th>\n",
       "      <th>County\n",
       "Code</th>\n",
       "      <th>County Name</th>\n",
       "      <th>ID. No.</th>\n",
       "      <th>YOB</th>\n",
       "      <th>PWD</th>\n",
       "      <th>Gender</th>\n",
       "      <th>Party</th>\n",
       "      <th>Party_abv</th>\n",
       "      <th>name</th>\n",
       "    </tr>\n",
       "  </thead>\n",
       "  <tbody>\n",
       "    <tr>\n",
       "      <th>0</th>\n",
       "      <td>1</td>\n",
       "      <td>mombasa</td>\n",
       "      <td>10093749</td>\n",
       "      <td>1/1/1970</td>\n",
       "      <td>No</td>\n",
       "      <td>male</td>\n",
       "      <td>JUBILEE PARTY</td>\n",
       "      <td>JP</td>\n",
       "      <td>abdusalaam ali kassim</td>\n",
       "    </tr>\n",
       "    <tr>\n",
       "      <th>1</th>\n",
       "      <td>1</td>\n",
       "      <td>mombasa</td>\n",
       "      <td>30474451</td>\n",
       "      <td>8/13/1992</td>\n",
       "      <td>No</td>\n",
       "      <td>male</td>\n",
       "      <td>JUBILEE PARTY</td>\n",
       "      <td>JP</td>\n",
       "      <td>abuubakar mahadhi swabir</td>\n",
       "    </tr>\n",
       "  </tbody>\n",
       "</table>\n",
       "</div>"
      ],
      "text/plain": [
       "   County\\nCode County Name   ID. No.        YOB PWD Gender          Party  \\\n",
       "0             1     mombasa  10093749   1/1/1970  No   male  JUBILEE PARTY   \n",
       "1             1     mombasa  30474451  8/13/1992  No   male  JUBILEE PARTY   \n",
       "\n",
       "  Party_abv                      name  \n",
       "0        JP     abdusalaam ali kassim  \n",
       "1        JP  abuubakar mahadhi swabir  "
      ]
     },
     "execution_count": 21,
     "metadata": {},
     "output_type": "execute_result"
    }
   ],
   "source": [
    "df_nom.head(2)"
   ]
  },
  {
   "cell_type": "code",
   "execution_count": 22,
   "metadata": {},
   "outputs": [],
   "source": [
    "df_nom.columns = ['c_code','county','id_no','yob','pwd','gender','party','party_abv','name']"
   ]
  },
  {
   "cell_type": "code",
   "execution_count": 23,
   "metadata": {},
   "outputs": [],
   "source": [
    "df_nom = df_nom[['c_code','county','name','id_no','yob','pwd','gender','party_abv']]"
   ]
  },
  {
   "cell_type": "code",
   "execution_count": 24,
   "metadata": {},
   "outputs": [
    {
     "data": {
      "text/html": [
       "<div>\n",
       "<style>\n",
       "    .dataframe thead tr:only-child th {\n",
       "        text-align: right;\n",
       "    }\n",
       "\n",
       "    .dataframe thead th {\n",
       "        text-align: left;\n",
       "    }\n",
       "\n",
       "    .dataframe tbody tr th {\n",
       "        vertical-align: top;\n",
       "    }\n",
       "</style>\n",
       "<table border=\"1\" class=\"dataframe\">\n",
       "  <thead>\n",
       "    <tr style=\"text-align: right;\">\n",
       "      <th></th>\n",
       "      <th>c_code</th>\n",
       "      <th>county</th>\n",
       "      <th>name</th>\n",
       "      <th>id_no</th>\n",
       "      <th>yob</th>\n",
       "      <th>pwd</th>\n",
       "      <th>gender</th>\n",
       "      <th>party_abv</th>\n",
       "    </tr>\n",
       "  </thead>\n",
       "  <tbody>\n",
       "    <tr>\n",
       "      <th>0</th>\n",
       "      <td>1</td>\n",
       "      <td>mombasa</td>\n",
       "      <td>abdusalaam ali kassim</td>\n",
       "      <td>10093749</td>\n",
       "      <td>1/1/1970</td>\n",
       "      <td>No</td>\n",
       "      <td>male</td>\n",
       "      <td>JP</td>\n",
       "    </tr>\n",
       "    <tr>\n",
       "      <th>1</th>\n",
       "      <td>1</td>\n",
       "      <td>mombasa</td>\n",
       "      <td>abuubakar mahadhi swabir</td>\n",
       "      <td>30474451</td>\n",
       "      <td>8/13/1992</td>\n",
       "      <td>No</td>\n",
       "      <td>male</td>\n",
       "      <td>JP</td>\n",
       "    </tr>\n",
       "    <tr>\n",
       "      <th>2</th>\n",
       "      <td>1</td>\n",
       "      <td>mombasa</td>\n",
       "      <td>hazel nyamoki katana</td>\n",
       "      <td>6729577</td>\n",
       "      <td>4/1/1959</td>\n",
       "      <td>No</td>\n",
       "      <td>female</td>\n",
       "      <td>JP</td>\n",
       "    </tr>\n",
       "  </tbody>\n",
       "</table>\n",
       "</div>"
      ],
      "text/plain": [
       "   c_code   county                      name     id_no        yob pwd  gender  \\\n",
       "0       1  mombasa     abdusalaam ali kassim  10093749   1/1/1970  No    male   \n",
       "1       1  mombasa  abuubakar mahadhi swabir  30474451  8/13/1992  No    male   \n",
       "2       1  mombasa      hazel nyamoki katana   6729577   4/1/1959  No  female   \n",
       "\n",
       "  party_abv  \n",
       "0        JP  \n",
       "1        JP  \n",
       "2        JP  "
      ]
     },
     "execution_count": 24,
     "metadata": {},
     "output_type": "execute_result"
    }
   ],
   "source": [
    "df_nom.head(3)"
   ]
  },
  {
   "cell_type": "code",
   "execution_count": 25,
   "metadata": {},
   "outputs": [
    {
     "name": "stdout",
     "output_type": "stream",
     "text": [
      "<class 'pandas.core.frame.DataFrame'>\n",
      "RangeIndex: 236 entries, 0 to 235\n",
      "Data columns (total 8 columns):\n",
      "c_code       236 non-null int64\n",
      "county       236 non-null object\n",
      "name         236 non-null object\n",
      "id_no        233 non-null object\n",
      "yob          172 non-null object\n",
      "pwd          169 non-null object\n",
      "gender       235 non-null object\n",
      "party_abv    236 non-null object\n",
      "dtypes: int64(1), object(7)\n",
      "memory usage: 14.8+ KB\n"
     ]
    }
   ],
   "source": [
    "df_nom.info()"
   ]
  },
  {
   "cell_type": "markdown",
   "metadata": {},
   "source": [
    "## Clean Candidates 2017 Data"
   ]
  },
  {
   "cell_type": "code",
   "execution_count": 26,
   "metadata": {},
   "outputs": [
    {
     "data": {
      "text/html": [
       "<div>\n",
       "<style>\n",
       "    .dataframe thead tr:only-child th {\n",
       "        text-align: right;\n",
       "    }\n",
       "\n",
       "    .dataframe thead th {\n",
       "        text-align: left;\n",
       "    }\n",
       "\n",
       "    .dataframe tbody tr th {\n",
       "        vertical-align: top;\n",
       "    }\n",
       "</style>\n",
       "<table border=\"1\" class=\"dataframe\">\n",
       "  <thead>\n",
       "    <tr style=\"text-align: right;\">\n",
       "      <th></th>\n",
       "      <th>No</th>\n",
       "      <th>Surname</th>\n",
       "      <th>Other Names</th>\n",
       "      <th>County Code</th>\n",
       "      <th>County Name</th>\n",
       "      <th>Party Code</th>\n",
       "      <th>Political Party Name</th>\n",
       "      <th>Abbrv</th>\n",
       "      <th>Gender</th>\n",
       "    </tr>\n",
       "  </thead>\n",
       "  <tbody>\n",
       "    <tr>\n",
       "      <th>0</th>\n",
       "      <td>1</td>\n",
       "      <td>BAJABER</td>\n",
       "      <td>YASSER ALI SHEIKH</td>\n",
       "      <td>1</td>\n",
       "      <td>MOMBASA</td>\n",
       "      <td>23</td>\n",
       "      <td>FORUM FOR RESTORATION OF DEMOCRACY-KENYA</td>\n",
       "      <td>FORD-KENYA</td>\n",
       "      <td>Male</td>\n",
       "    </tr>\n",
       "    <tr>\n",
       "      <th>1</th>\n",
       "      <td>2</td>\n",
       "      <td>CHOME</td>\n",
       "      <td>ONESMAS HABEL</td>\n",
       "      <td>1</td>\n",
       "      <td>MOMBASA</td>\n",
       "      <td>42</td>\n",
       "      <td>SHIRIKISHO PARTY OF KENYA</td>\n",
       "      <td>SPK</td>\n",
       "      <td>Male</td>\n",
       "    </tr>\n",
       "    <tr>\n",
       "      <th>2</th>\n",
       "      <td>3</td>\n",
       "      <td>FONDO</td>\n",
       "      <td>FLORENCE WAWUDA</td>\n",
       "      <td>1</td>\n",
       "      <td>MOMBASA</td>\n",
       "      <td>60</td>\n",
       "      <td>VIBRANT DEMOCRATIC PARTY</td>\n",
       "      <td>VDP</td>\n",
       "      <td>Female</td>\n",
       "    </tr>\n",
       "  </tbody>\n",
       "</table>\n",
       "</div>"
      ],
      "text/plain": [
       "   No  Surname        Other Names  County Code County Name Party Code  \\\n",
       "0   1  BAJABER  YASSER ALI SHEIKH            1     MOMBASA         23   \n",
       "1   2    CHOME      ONESMAS HABEL            1     MOMBASA         42   \n",
       "2   3    FONDO    FLORENCE WAWUDA            1     MOMBASA         60   \n",
       "\n",
       "                       Political Party Name       Abbrv  Gender  \n",
       "0  FORUM FOR RESTORATION OF DEMOCRACY-KENYA  FORD-KENYA    Male  \n",
       "1                 SHIRIKISHO PARTY OF KENYA         SPK    Male  \n",
       "2                  VIBRANT DEMOCRATIC PARTY         VDP  Female  "
      ]
     },
     "execution_count": 26,
     "metadata": {},
     "output_type": "execute_result"
    }
   ],
   "source": [
    "df_cand.head(3)"
   ]
  },
  {
   "cell_type": "code",
   "execution_count": 27,
   "metadata": {},
   "outputs": [],
   "source": [
    "df_cand['name'] = df_cand[['Other Names','Surname']].apply(lambda x: ' '.join(x), axis=1).str.lower()\n",
    "df_cand['County Name'] = df_cand['County Name'].str.lower()\n",
    "df_cand['Gender'] = df_cand['Gender'].str.lower()"
   ]
  },
  {
   "cell_type": "code",
   "execution_count": 28,
   "metadata": {},
   "outputs": [],
   "source": [
    "df_cand = df_cand.drop(['Surname','Other Names'],axis=1)"
   ]
  },
  {
   "cell_type": "code",
   "execution_count": 29,
   "metadata": {},
   "outputs": [],
   "source": [
    "df_cand = df_cand[['County Code', 'County Name', 'name','Gender','Abbrv']]"
   ]
  },
  {
   "cell_type": "code",
   "execution_count": 30,
   "metadata": {},
   "outputs": [],
   "source": [
    "df_cand.columns = ['c_code','county','name','gender','party_abv']"
   ]
  },
  {
   "cell_type": "code",
   "execution_count": 31,
   "metadata": {},
   "outputs": [
    {
     "data": {
      "text/html": [
       "<div>\n",
       "<style>\n",
       "    .dataframe thead tr:only-child th {\n",
       "        text-align: right;\n",
       "    }\n",
       "\n",
       "    .dataframe thead th {\n",
       "        text-align: left;\n",
       "    }\n",
       "\n",
       "    .dataframe tbody tr th {\n",
       "        vertical-align: top;\n",
       "    }\n",
       "</style>\n",
       "<table border=\"1\" class=\"dataframe\">\n",
       "  <thead>\n",
       "    <tr style=\"text-align: right;\">\n",
       "      <th></th>\n",
       "      <th>c_code</th>\n",
       "      <th>county</th>\n",
       "      <th>name</th>\n",
       "      <th>gender</th>\n",
       "      <th>party_abv</th>\n",
       "    </tr>\n",
       "  </thead>\n",
       "  <tbody>\n",
       "    <tr>\n",
       "      <th>0</th>\n",
       "      <td>1</td>\n",
       "      <td>mombasa</td>\n",
       "      <td>yasser ali sheikh bajaber</td>\n",
       "      <td>male</td>\n",
       "      <td>FORD-KENYA</td>\n",
       "    </tr>\n",
       "    <tr>\n",
       "      <th>1</th>\n",
       "      <td>1</td>\n",
       "      <td>mombasa</td>\n",
       "      <td>onesmas habel chome</td>\n",
       "      <td>male</td>\n",
       "      <td>SPK</td>\n",
       "    </tr>\n",
       "    <tr>\n",
       "      <th>2</th>\n",
       "      <td>1</td>\n",
       "      <td>mombasa</td>\n",
       "      <td>florence wawuda fondo</td>\n",
       "      <td>female</td>\n",
       "      <td>VDP</td>\n",
       "    </tr>\n",
       "  </tbody>\n",
       "</table>\n",
       "</div>"
      ],
      "text/plain": [
       "   c_code   county                       name  gender   party_abv\n",
       "0       1  mombasa  yasser ali sheikh bajaber    male  FORD-KENYA\n",
       "1       1  mombasa        onesmas habel chome    male         SPK\n",
       "2       1  mombasa      florence wawuda fondo  female         VDP"
      ]
     },
     "execution_count": 31,
     "metadata": {},
     "output_type": "execute_result"
    }
   ],
   "source": [
    "df_cand.head(3)"
   ]
  },
  {
   "cell_type": "code",
   "execution_count": 32,
   "metadata": {},
   "outputs": [
    {
     "name": "stdout",
     "output_type": "stream",
     "text": [
      "<class 'pandas.core.frame.DataFrame'>\n",
      "RangeIndex: 257 entries, 0 to 256\n",
      "Data columns (total 5 columns):\n",
      "c_code       257 non-null int64\n",
      "county       257 non-null object\n",
      "name         257 non-null object\n",
      "gender       257 non-null object\n",
      "party_abv    257 non-null object\n",
      "dtypes: int64(1), object(4)\n",
      "memory usage: 10.1+ KB\n"
     ]
    }
   ],
   "source": [
    "df_cand.info()"
   ]
  },
  {
   "cell_type": "markdown",
   "metadata": {},
   "source": [
    "###  Merge the details from all the dataset"
   ]
  },
  {
   "cell_type": "code",
   "execution_count": 33,
   "metadata": {},
   "outputs": [
    {
     "data": {
      "text/plain": [
       "Index(['c_code', 'county', 'name', 'party'], dtype='object')"
      ]
     },
     "execution_count": 33,
     "metadata": {},
     "output_type": "execute_result"
    }
   ],
   "source": [
    "df_2013.columns"
   ]
  },
  {
   "cell_type": "code",
   "execution_count": 34,
   "metadata": {},
   "outputs": [
    {
     "data": {
      "text/plain": [
       "Index(['c_code', 'county', 'name', 'gender', 'dob', 'party', 'elected'], dtype='object')"
      ]
     },
     "execution_count": 34,
     "metadata": {},
     "output_type": "execute_result"
    }
   ],
   "source": [
    "df_2017.columns"
   ]
  },
  {
   "cell_type": "code",
   "execution_count": 35,
   "metadata": {},
   "outputs": [
    {
     "data": {
      "text/plain": [
       "Index(['c_code', 'county', 'name', 'id_no', 'yob', 'pwd', 'gender',\n",
       "       'party_abv'],\n",
       "      dtype='object')"
      ]
     },
     "execution_count": 35,
     "metadata": {},
     "output_type": "execute_result"
    }
   ],
   "source": [
    "df_nom.columns"
   ]
  },
  {
   "cell_type": "code",
   "execution_count": 36,
   "metadata": {
    "scrolled": true
   },
   "outputs": [
    {
     "data": {
      "text/plain": [
       "Index(['c_code', 'county', 'name', 'gender', 'party_abv'], dtype='object')"
      ]
     },
     "execution_count": 36,
     "metadata": {},
     "output_type": "execute_result"
    }
   ],
   "source": [
    "df_cand.columns"
   ]
  },
  {
   "cell_type": "markdown",
   "metadata": {},
   "source": [
    "**Projected steps**\n",
    "- concat nominations and final candidates datasets\n",
    "- add column `2013` with a yes(1) or No(0) to this dataset\n",
    "- add `won` column with yes(1) or No(0)"
   ]
  },
  {
   "cell_type": "markdown",
   "metadata": {},
   "source": [
    "### i. concat nominations and final candidates datasets"
   ]
  },
  {
   "cell_type": "code",
   "execution_count": 113,
   "metadata": {},
   "outputs": [],
   "source": [
    "candidates = pd.merge(df_nom,df_cand,how='outer')"
   ]
  },
  {
   "cell_type": "code",
   "execution_count": 114,
   "metadata": {},
   "outputs": [
    {
     "name": "stdout",
     "output_type": "stream",
     "text": [
      "<class 'pandas.core.frame.DataFrame'>\n",
      "Int64Index: 444 entries, 0 to 443\n",
      "Data columns (total 8 columns):\n",
      "c_code       444 non-null int64\n",
      "county       444 non-null object\n",
      "name         444 non-null object\n",
      "id_no        233 non-null object\n",
      "yob          172 non-null object\n",
      "pwd          169 non-null object\n",
      "gender       443 non-null object\n",
      "party_abv    444 non-null object\n",
      "dtypes: int64(1), object(7)\n",
      "memory usage: 31.2+ KB\n"
     ]
    }
   ],
   "source": [
    "candidates.info()"
   ]
  },
  {
   "cell_type": "markdown",
   "metadata": {},
   "source": [
    "**fill `age` with mean `yob` **"
   ]
  },
  {
   "cell_type": "code",
   "execution_count": 115,
   "metadata": {},
   "outputs": [],
   "source": [
    "candidates['age'] = 2017 - (candidates['yob'].str.split('/').str.get(2).apply(pd.to_numeric))"
   ]
  },
  {
   "cell_type": "code",
   "execution_count": 116,
   "metadata": {},
   "outputs": [],
   "source": [
    "candidates['age'] = candidates['age'].fillna(candidates['age'].mean()).round(0).astype(int)"
   ]
  },
  {
   "cell_type": "code",
   "execution_count": 117,
   "metadata": {
    "scrolled": false
   },
   "outputs": [
    {
     "name": "stdout",
     "output_type": "stream",
     "text": [
      "<class 'pandas.core.frame.DataFrame'>\n",
      "Int64Index: 444 entries, 0 to 443\n",
      "Data columns (total 9 columns):\n",
      "c_code       444 non-null int64\n",
      "county       444 non-null object\n",
      "name         444 non-null object\n",
      "id_no        233 non-null object\n",
      "yob          172 non-null object\n",
      "pwd          169 non-null object\n",
      "gender       443 non-null object\n",
      "party_abv    444 non-null object\n",
      "age          444 non-null int64\n",
      "dtypes: int64(2), object(7)\n",
      "memory usage: 34.7+ KB\n"
     ]
    }
   ],
   "source": [
    "candidates.info()"
   ]
  },
  {
   "cell_type": "markdown",
   "metadata": {},
   "source": [
    "#### a simple heatmap to see where we are missing data!"
   ]
  },
  {
   "cell_type": "code",
   "execution_count": 118,
   "metadata": {},
   "outputs": [
    {
     "data": {
      "text/plain": [
       "<matplotlib.axes._subplots.AxesSubplot at 0x11bf87160>"
      ]
     },
     "execution_count": 118,
     "metadata": {},
     "output_type": "execute_result"
    },
    {
     "data": {
      "image/png": "[encoded data removed]",
      "text/plain": [
       "<matplotlib.figure.Figure at 0x11bf87be0>"
      ]
     },
     "metadata": {},
     "output_type": "display_data"
    }
   ],
   "source": [
    "sns.heatmap(candidates.isnull(),yticklabels=False,cbar=False,cmap='viridis')"
   ]
  },
  {
   "cell_type": "markdown",
   "metadata": {},
   "source": [
    "### Indicate those who won in_2013 with a `True-(1)` or `False-(0)` to this dataset\n",
    "\n",
    "- create a List object with all the names of senators from 2013\n",
    "- apply function to each candidates profile, if yes - 1,  no-0 to a `in_2013` column"
   ]
  },
  {
   "cell_type": "code",
   "execution_count": 119,
   "metadata": {},
   "outputs": [],
   "source": [
    "sen_2013 = list(df_2013['name'])"
   ]
  },
  {
   "cell_type": "code",
   "execution_count": 120,
   "metadata": {},
   "outputs": [],
   "source": [
    "def check_2013(name):\n",
    "    if name in sen_2013:\n",
    "        return 1\n",
    "    else:\n",
    "        return 0"
   ]
  },
  {
   "cell_type": "code",
   "execution_count": 121,
   "metadata": {},
   "outputs": [],
   "source": [
    "candidates['won_2013'] = candidates['name'].apply(check_2013)"
   ]
  },
  {
   "cell_type": "markdown",
   "metadata": {},
   "source": [
    "### Indicate 2017 winners with a yes-(1) or no-(0) in `elected` column"
   ]
  },
  {
   "cell_type": "code",
   "execution_count": 122,
   "metadata": {},
   "outputs": [],
   "source": [
    "sen_2017 = list(df_2017['name'])"
   ]
  },
  {
   "cell_type": "code",
   "execution_count": 123,
   "metadata": {},
   "outputs": [],
   "source": [
    "def won2017(name):\n",
    "    if name in sen_2017:\n",
    "        return 1\n",
    "    else:\n",
    "        return 0"
   ]
  },
  {
   "cell_type": "code",
   "execution_count": 124,
   "metadata": {},
   "outputs": [],
   "source": [
    "candidates['elected'] = candidates['name'].apply(won2017)"
   ]
  },
  {
   "cell_type": "code",
   "execution_count": 125,
   "metadata": {},
   "outputs": [
    {
     "data": {
      "text/plain": [
       "array(['JP', 'ODM', 'WDM-K', 'ANC', 'NARC-KENYA', 'CCM', 'FORD-KENYA',\n",
       "       'SPK', 'VDP', 'IND', 'MCCP', 'ALPK', 'ELP', 'KADU-ASILI', 'KANU',\n",
       "       'DP', 'CMD', 'UDP', 'NVP', 'PDR', 'KPP', 'SAFINA', 'AGANO', 'SDP',\n",
       "       'TAK', 'JFP', 'EFP', 'LPK', 'FAP', 'PNU', 'MGPK', 'FORD', 'CCU',\n",
       "       'PTP', 'ND', 'MDP', 'NLP', 'FPK', 'PPOK', 'MDG', 'RBK', 'UDM',\n",
       "       'KNC', 'PEP', 'PDP', 'KSC', 'RLP'], dtype=object)"
      ]
     },
     "execution_count": 125,
     "metadata": {},
     "output_type": "execute_result"
    }
   ],
   "source": [
    "candidates['party_abv'].unique()"
   ]
  },
  {
   "cell_type": "code",
   "execution_count": 126,
   "metadata": {},
   "outputs": [
    {
     "data": {
      "text/plain": [
       "No      156\n",
       "None      6\n",
       "ND        6\n",
       "Yes       1\n",
       "Name: pwd, dtype: int64"
      ]
     },
     "execution_count": 126,
     "metadata": {},
     "output_type": "execute_result"
    }
   ],
   "source": [
    "candidates['pwd'].value_counts()"
   ]
  },
  {
   "cell_type": "code",
   "execution_count": 127,
   "metadata": {},
   "outputs": [],
   "source": [
    "# from fuzzywuzzy import fuzz, process\n",
    "# fuzz.ratio(df_2013['name'][0],candidates['name'][2])"
   ]
  },
  {
   "cell_type": "code",
   "execution_count": 129,
   "metadata": {},
   "outputs": [],
   "source": [
    "# candidates.to_csv('senate_candidates.csv')"
   ]
  },
  {
   "cell_type": "markdown",
   "metadata": {},
   "source": [
    "# EDA\n",
    "\n",
    "load candidates data"
   ]
  },
  {
   "cell_type": "code",
   "execution_count": 130,
   "metadata": {},
   "outputs": [],
   "source": [
    "df = pd.read_csv('senate_candidates.csv')"
   ]
  },
  {
   "cell_type": "code",
   "execution_count": 131,
   "metadata": {},
   "outputs": [
    {
     "data": {
      "text/html": [
       "<div>\n",
       "<style>\n",
       "    .dataframe thead tr:only-child th {\n",
       "        text-align: right;\n",
       "    }\n",
       "\n",
       "    .dataframe thead th {\n",
       "        text-align: left;\n",
       "    }\n",
       "\n",
       "    .dataframe tbody tr th {\n",
       "        vertical-align: top;\n",
       "    }\n",
       "</style>\n",
       "<table border=\"1\" class=\"dataframe\">\n",
       "  <thead>\n",
       "    <tr style=\"text-align: right;\">\n",
       "      <th></th>\n",
       "      <th>Unnamed: 0</th>\n",
       "      <th>c_code</th>\n",
       "      <th>county</th>\n",
       "      <th>name</th>\n",
       "      <th>id_no</th>\n",
       "      <th>yob</th>\n",
       "      <th>pwd</th>\n",
       "      <th>gender</th>\n",
       "      <th>party_abv</th>\n",
       "      <th>age</th>\n",
       "      <th>won_2013</th>\n",
       "      <th>elected</th>\n",
       "    </tr>\n",
       "  </thead>\n",
       "  <tbody>\n",
       "    <tr>\n",
       "      <th>0</th>\n",
       "      <td>0</td>\n",
       "      <td>1</td>\n",
       "      <td>mombasa</td>\n",
       "      <td>abdusalaam ali kassim</td>\n",
       "      <td>10093749</td>\n",
       "      <td>1/1/1970</td>\n",
       "      <td>No</td>\n",
       "      <td>male</td>\n",
       "      <td>JP</td>\n",
       "      <td>47</td>\n",
       "      <td>0</td>\n",
       "      <td>0</td>\n",
       "    </tr>\n",
       "    <tr>\n",
       "      <th>1</th>\n",
       "      <td>1</td>\n",
       "      <td>1</td>\n",
       "      <td>mombasa</td>\n",
       "      <td>abuubakar mahadhi swabir</td>\n",
       "      <td>30474451</td>\n",
       "      <td>8/13/1992</td>\n",
       "      <td>No</td>\n",
       "      <td>male</td>\n",
       "      <td>JP</td>\n",
       "      <td>25</td>\n",
       "      <td>0</td>\n",
       "      <td>0</td>\n",
       "    </tr>\n",
       "    <tr>\n",
       "      <th>2</th>\n",
       "      <td>2</td>\n",
       "      <td>1</td>\n",
       "      <td>mombasa</td>\n",
       "      <td>hazel nyamoki katana</td>\n",
       "      <td>6729577</td>\n",
       "      <td>4/1/1959</td>\n",
       "      <td>No</td>\n",
       "      <td>female</td>\n",
       "      <td>JP</td>\n",
       "      <td>58</td>\n",
       "      <td>0</td>\n",
       "      <td>0</td>\n",
       "    </tr>\n",
       "  </tbody>\n",
       "</table>\n",
       "</div>"
      ],
      "text/plain": [
       "   Unnamed: 0  c_code   county                      name     id_no        yob  \\\n",
       "0           0       1  mombasa     abdusalaam ali kassim  10093749   1/1/1970   \n",
       "1           1       1  mombasa  abuubakar mahadhi swabir  30474451  8/13/1992   \n",
       "2           2       1  mombasa      hazel nyamoki katana   6729577   4/1/1959   \n",
       "\n",
       "  pwd  gender party_abv  age  won_2013  elected  \n",
       "0  No    male        JP   47         0        0  \n",
       "1  No    male        JP   25         0        0  \n",
       "2  No  female        JP   58         0        0  "
      ]
     },
     "execution_count": 131,
     "metadata": {},
     "output_type": "execute_result"
    }
   ],
   "source": [
    "df.head(3)"
   ]
  },
  {
   "cell_type": "markdown",
   "metadata": {},
   "source": [
    "### Missing Data\n",
    "\n",
    "Use a heatmap to see where we are missing data!"
   ]
  },
  {
   "cell_type": "code",
   "execution_count": 132,
   "metadata": {},
   "outputs": [
    {
     "data": {
      "text/plain": [
       "<matplotlib.axes._subplots.AxesSubplot at 0x11c406f28>"
      ]
     },
     "execution_count": 132,
     "metadata": {},
     "output_type": "execute_result"
    },
    {
     "data": {
      "image/png": "[encoded data removed]",
      "text/plain": [
       "<matplotlib.figure.Figure at 0x11c3f14a8>"
      ]
     },
     "metadata": {},
     "output_type": "display_data"
    }
   ],
   "source": [
    "sns.heatmap(df.isnull(),yticklabels=False,cbar=False,cmap='viridis')\n",
    "\n",
    "# An assessment of data available, id_no, yob and pwd have missing values while the rest\n",
    "# are relatively OK.\n",
    "#"
   ]
  },
  {
   "cell_type": "code",
   "execution_count": 156,
   "metadata": {},
   "outputs": [],
   "source": [
    "# drop column I wont use \n",
    "df.drop(['Unnamed: 0','id_no', 'yob','pwd'], axis=1, inplace=True)"
   ]
  },
  {
   "cell_type": "markdown",
   "metadata": {},
   "source": [
    "# Visualizing some more of the data\n",
    "\n",
    "#### Analysis by column. \n",
    "\n",
    "**By Elected**\n"
   ]
  },
  {
   "cell_type": "code",
   "execution_count": 157,
   "metadata": {
    "scrolled": true
   },
   "outputs": [
    {
     "data": {
      "text/plain": [
       "<matplotlib.axes._subplots.AxesSubplot at 0x1a212e1b38>"
      ]
     },
     "execution_count": 157,
     "metadata": {},
     "output_type": "execute_result"
    },
    {
     "data": {
      "image/png": "[encoded data removed]",
      "text/plain": [
       "<matplotlib.figure.Figure at 0x1a20987940>"
      ]
     },
     "metadata": {},
     "output_type": "display_data"
    }
   ],
   "source": [
    "sns.countplot(x='elected',data=df)"
   ]
  },
  {
   "cell_type": "markdown",
   "metadata": {},
   "source": [
    "**Elected by Gender**"
   ]
  },
  {
   "cell_type": "code",
   "execution_count": 158,
   "metadata": {},
   "outputs": [
    {
     "data": {
      "text/plain": [
       "<matplotlib.axes._subplots.AxesSubplot at 0x1a213072b0>"
      ]
     },
     "execution_count": 158,
     "metadata": {},
     "output_type": "execute_result"
    },
    {
     "data": {
      "image/png": "[encoded data removed]",
      "text/plain": [
       "<matplotlib.figure.Figure at 0x1a211adef0>"
      ]
     },
     "metadata": {},
     "output_type": "display_data"
    }
   ],
   "source": [
    "sns.countplot(x='elected',hue='gender',data=df,palette='RdBu_r')"
   ]
  },
  {
   "cell_type": "markdown",
   "metadata": {},
   "source": [
    "#### Election by Party\n",
    "\n",
    "top 10 parties by count"
   ]
  },
  {
   "cell_type": "code",
   "execution_count": 154,
   "metadata": {},
   "outputs": [
    {
     "data": {
      "text/plain": [
       "JP            173\n",
       "ODM            75\n",
       "IND            44\n",
       "WDM-K          20\n",
       "KANU           17\n",
       "ANC            14\n",
       "MCCP           12\n",
       "FORD-KENYA     12\n",
       "NARC-KENYA      8\n",
       "CCM             5\n",
       "Name: party_abv, dtype: int64"
      ]
     },
     "execution_count": 154,
     "metadata": {},
     "output_type": "execute_result"
    }
   ],
   "source": [
    "df['party_abv'].value_counts()[:10]"
   ]
  },
  {
   "cell_type": "code",
   "execution_count": 144,
   "metadata": {
    "scrolled": true
   },
   "outputs": [
    {
     "data": {
      "text/plain": [
       "<matplotlib.axes._subplots.AxesSubplot at 0x1a2067ca58>"
      ]
     },
     "execution_count": 144,
     "metadata": {},
     "output_type": "execute_result"
    },
    {
     "data": {
      "image/png": "[encoded data removed]",
      "text/plain": [
       "<matplotlib.figure.Figure at 0x1a208e2518>"
      ]
     },
     "metadata": {},
     "output_type": "display_data"
    }
   ],
   "source": [
    "df['age'].plot()"
   ]
  },
  {
   "cell_type": "code",
   "execution_count": 159,
   "metadata": {},
   "outputs": [
    {
     "data": {
      "text/html": [
       "<div>\n",
       "<style>\n",
       "    .dataframe thead tr:only-child th {\n",
       "        text-align: right;\n",
       "    }\n",
       "\n",
       "    .dataframe thead th {\n",
       "        text-align: left;\n",
       "    }\n",
       "\n",
       "    .dataframe tbody tr th {\n",
       "        vertical-align: top;\n",
       "    }\n",
       "</style>\n",
       "<table border=\"1\" class=\"dataframe\">\n",
       "  <thead>\n",
       "    <tr style=\"text-align: right;\">\n",
       "      <th></th>\n",
       "      <th>c_code</th>\n",
       "      <th>county</th>\n",
       "      <th>name</th>\n",
       "      <th>gender</th>\n",
       "      <th>party_abv</th>\n",
       "      <th>age</th>\n",
       "      <th>won_2013</th>\n",
       "      <th>elected</th>\n",
       "    </tr>\n",
       "  </thead>\n",
       "  <tbody>\n",
       "    <tr>\n",
       "      <th>0</th>\n",
       "      <td>1</td>\n",
       "      <td>mombasa</td>\n",
       "      <td>abdusalaam ali kassim</td>\n",
       "      <td>male</td>\n",
       "      <td>JP</td>\n",
       "      <td>47</td>\n",
       "      <td>0</td>\n",
       "      <td>0</td>\n",
       "    </tr>\n",
       "    <tr>\n",
       "      <th>1</th>\n",
       "      <td>1</td>\n",
       "      <td>mombasa</td>\n",
       "      <td>abuubakar mahadhi swabir</td>\n",
       "      <td>male</td>\n",
       "      <td>JP</td>\n",
       "      <td>25</td>\n",
       "      <td>0</td>\n",
       "      <td>0</td>\n",
       "    </tr>\n",
       "    <tr>\n",
       "      <th>2</th>\n",
       "      <td>1</td>\n",
       "      <td>mombasa</td>\n",
       "      <td>hazel nyamoki katana</td>\n",
       "      <td>female</td>\n",
       "      <td>JP</td>\n",
       "      <td>58</td>\n",
       "      <td>0</td>\n",
       "      <td>0</td>\n",
       "    </tr>\n",
       "  </tbody>\n",
       "</table>\n",
       "</div>"
      ],
      "text/plain": [
       "   c_code   county                      name  gender party_abv  age  won_2013  \\\n",
       "0       1  mombasa     abdusalaam ali kassim    male        JP   47         0   \n",
       "1       1  mombasa  abuubakar mahadhi swabir    male        JP   25         0   \n",
       "2       1  mombasa      hazel nyamoki katana  female        JP   58         0   \n",
       "\n",
       "   elected  \n",
       "0        0  \n",
       "1        0  \n",
       "2        0  "
      ]
     },
     "execution_count": 159,
     "metadata": {},
     "output_type": "execute_result"
    }
   ],
   "source": [
    "df.head(3)"
   ]
  },
  {
   "cell_type": "markdown",
   "metadata": {},
   "source": [
    "## Convert Categorical Features \n",
    "\n",
    "We need to convert categorical features to dummy variables using pandas,\n",
    "\n",
    "Otherwise the learning algorithm won't be able to directly take in those features as inputs.\n",
    "\n",
    "    - gender column, caterorize if candidate is male or not(1 | 0 )\n",
    "    - party_abv, categorize for the 47 parties\n"
   ]
  },
  {
   "cell_type": "code",
   "execution_count": 180,
   "metadata": {},
   "outputs": [],
   "source": [
    "gender = pd.get_dummies(df['gender'],drop_first=True)\n",
    "\n",
    "party = pd.get_dummies(df['party_abv'],drop_first=True)"
   ]
  },
  {
   "cell_type": "code",
   "execution_count": 183,
   "metadata": {},
   "outputs": [],
   "source": [
    "df_train = pd.concat([df,gender,party],axis=1)"
   ]
  },
  {
   "cell_type": "code",
   "execution_count": 184,
   "metadata": {},
   "outputs": [
    {
     "data": {
      "text/html": [
       "<div>\n",
       "<style>\n",
       "    .dataframe thead tr:only-child th {\n",
       "        text-align: right;\n",
       "    }\n",
       "\n",
       "    .dataframe thead th {\n",
       "        text-align: left;\n",
       "    }\n",
       "\n",
       "    .dataframe tbody tr th {\n",
       "        vertical-align: top;\n",
       "    }\n",
       "</style>\n",
       "<table border=\"1\" class=\"dataframe\">\n",
       "  <thead>\n",
       "    <tr style=\"text-align: right;\">\n",
       "      <th></th>\n",
       "      <th>c_code</th>\n",
       "      <th>county</th>\n",
       "      <th>name</th>\n",
       "      <th>gender</th>\n",
       "      <th>party_abv</th>\n",
       "      <th>age</th>\n",
       "      <th>won_2013</th>\n",
       "      <th>elected</th>\n",
       "      <th>male</th>\n",
       "      <th>ALPK</th>\n",
       "      <th>...</th>\n",
       "      <th>RBK</th>\n",
       "      <th>RLP</th>\n",
       "      <th>SAFINA</th>\n",
       "      <th>SDP</th>\n",
       "      <th>SPK</th>\n",
       "      <th>TAK</th>\n",
       "      <th>UDM</th>\n",
       "      <th>UDP</th>\n",
       "      <th>VDP</th>\n",
       "      <th>WDM-K</th>\n",
       "    </tr>\n",
       "  </thead>\n",
       "  <tbody>\n",
       "    <tr>\n",
       "      <th>0</th>\n",
       "      <td>1</td>\n",
       "      <td>mombasa</td>\n",
       "      <td>abdusalaam ali kassim</td>\n",
       "      <td>male</td>\n",
       "      <td>JP</td>\n",
       "      <td>47</td>\n",
       "      <td>0</td>\n",
       "      <td>0</td>\n",
       "      <td>1</td>\n",
       "      <td>0</td>\n",
       "      <td>...</td>\n",
       "      <td>0</td>\n",
       "      <td>0</td>\n",
       "      <td>0</td>\n",
       "      <td>0</td>\n",
       "      <td>0</td>\n",
       "      <td>0</td>\n",
       "      <td>0</td>\n",
       "      <td>0</td>\n",
       "      <td>0</td>\n",
       "      <td>0</td>\n",
       "    </tr>\n",
       "    <tr>\n",
       "      <th>1</th>\n",
       "      <td>1</td>\n",
       "      <td>mombasa</td>\n",
       "      <td>abuubakar mahadhi swabir</td>\n",
       "      <td>male</td>\n",
       "      <td>JP</td>\n",
       "      <td>25</td>\n",
       "      <td>0</td>\n",
       "      <td>0</td>\n",
       "      <td>1</td>\n",
       "      <td>0</td>\n",
       "      <td>...</td>\n",
       "      <td>0</td>\n",
       "      <td>0</td>\n",
       "      <td>0</td>\n",
       "      <td>0</td>\n",
       "      <td>0</td>\n",
       "      <td>0</td>\n",
       "      <td>0</td>\n",
       "      <td>0</td>\n",
       "      <td>0</td>\n",
       "      <td>0</td>\n",
       "    </tr>\n",
       "  </tbody>\n",
       "</table>\n",
       "<p>2 rows × 55 columns</p>\n",
       "</div>"
      ],
      "text/plain": [
       "   c_code   county                      name gender party_abv  age  won_2013  \\\n",
       "0       1  mombasa     abdusalaam ali kassim   male        JP   47         0   \n",
       "1       1  mombasa  abuubakar mahadhi swabir   male        JP   25         0   \n",
       "\n",
       "   elected  male  ALPK  ...    RBK  RLP  SAFINA  SDP  SPK  TAK  UDM  UDP  VDP  \\\n",
       "0        0     1     0  ...      0    0       0    0    0    0    0    0    0   \n",
       "1        0     1     0  ...      0    0       0    0    0    0    0    0    0   \n",
       "\n",
       "   WDM-K  \n",
       "0      0  \n",
       "1      0  \n",
       "\n",
       "[2 rows x 55 columns]"
      ]
     },
     "execution_count": 184,
     "metadata": {},
     "output_type": "execute_result"
    }
   ],
   "source": [
    "df_train.head(2)"
   ]
  },
  {
   "cell_type": "code",
   "execution_count": 185,
   "metadata": {},
   "outputs": [],
   "source": [
    "df_train.drop(['county','name','gender','party_abv'],axis=1,inplace=True)"
   ]
  },
  {
   "cell_type": "code",
   "execution_count": 186,
   "metadata": {},
   "outputs": [
    {
     "data": {
      "text/html": [
       "<div>\n",
       "<style>\n",
       "    .dataframe thead tr:only-child th {\n",
       "        text-align: right;\n",
       "    }\n",
       "\n",
       "    .dataframe thead th {\n",
       "        text-align: left;\n",
       "    }\n",
       "\n",
       "    .dataframe tbody tr th {\n",
       "        vertical-align: top;\n",
       "    }\n",
       "</style>\n",
       "<table border=\"1\" class=\"dataframe\">\n",
       "  <thead>\n",
       "    <tr style=\"text-align: right;\">\n",
       "      <th></th>\n",
       "      <th>c_code</th>\n",
       "      <th>age</th>\n",
       "      <th>won_2013</th>\n",
       "      <th>elected</th>\n",
       "      <th>male</th>\n",
       "      <th>ALPK</th>\n",
       "      <th>ANC</th>\n",
       "      <th>CCM</th>\n",
       "      <th>CCU</th>\n",
       "      <th>CMD</th>\n",
       "      <th>...</th>\n",
       "      <th>RBK</th>\n",
       "      <th>RLP</th>\n",
       "      <th>SAFINA</th>\n",
       "      <th>SDP</th>\n",
       "      <th>SPK</th>\n",
       "      <th>TAK</th>\n",
       "      <th>UDM</th>\n",
       "      <th>UDP</th>\n",
       "      <th>VDP</th>\n",
       "      <th>WDM-K</th>\n",
       "    </tr>\n",
       "  </thead>\n",
       "  <tbody>\n",
       "    <tr>\n",
       "      <th>0</th>\n",
       "      <td>1</td>\n",
       "      <td>47</td>\n",
       "      <td>0</td>\n",
       "      <td>0</td>\n",
       "      <td>1</td>\n",
       "      <td>0</td>\n",
       "      <td>0</td>\n",
       "      <td>0</td>\n",
       "      <td>0</td>\n",
       "      <td>0</td>\n",
       "      <td>...</td>\n",
       "      <td>0</td>\n",
       "      <td>0</td>\n",
       "      <td>0</td>\n",
       "      <td>0</td>\n",
       "      <td>0</td>\n",
       "      <td>0</td>\n",
       "      <td>0</td>\n",
       "      <td>0</td>\n",
       "      <td>0</td>\n",
       "      <td>0</td>\n",
       "    </tr>\n",
       "    <tr>\n",
       "      <th>1</th>\n",
       "      <td>1</td>\n",
       "      <td>25</td>\n",
       "      <td>0</td>\n",
       "      <td>0</td>\n",
       "      <td>1</td>\n",
       "      <td>0</td>\n",
       "      <td>0</td>\n",
       "      <td>0</td>\n",
       "      <td>0</td>\n",
       "      <td>0</td>\n",
       "      <td>...</td>\n",
       "      <td>0</td>\n",
       "      <td>0</td>\n",
       "      <td>0</td>\n",
       "      <td>0</td>\n",
       "      <td>0</td>\n",
       "      <td>0</td>\n",
       "      <td>0</td>\n",
       "      <td>0</td>\n",
       "      <td>0</td>\n",
       "      <td>0</td>\n",
       "    </tr>\n",
       "  </tbody>\n",
       "</table>\n",
       "<p>2 rows × 51 columns</p>\n",
       "</div>"
      ],
      "text/plain": [
       "   c_code  age  won_2013  elected  male  ALPK  ANC  CCM  CCU  CMD  ...    RBK  \\\n",
       "0       1   47         0        0     1     0    0    0    0    0  ...      0   \n",
       "1       1   25         0        0     1     0    0    0    0    0  ...      0   \n",
       "\n",
       "   RLP  SAFINA  SDP  SPK  TAK  UDM  UDP  VDP  WDM-K  \n",
       "0    0       0    0    0    0    0    0    0      0  \n",
       "1    0       0    0    0    0    0    0    0      0  \n",
       "\n",
       "[2 rows x 51 columns]"
      ]
     },
     "execution_count": 186,
     "metadata": {},
     "output_type": "execute_result"
    }
   ],
   "source": [
    "df_train.head(2)"
   ]
  },
  {
   "cell_type": "markdown",
   "metadata": {},
   "source": [
    "\n",
    "## Building a Logistic Regression model\n",
    "\n",
    "Start by splitting data into a training set and test set \n",
    "\n",
    "\n",
    "## Train Test Split\n",
    "\n",
    "\n",
    "\n",
    "    X = These are the features we will use to predict\n",
    "\n",
    "    y = Value we are predicting ie Did the candidate win"
   ]
  },
  {
   "cell_type": "code",
   "execution_count": 187,
   "metadata": {},
   "outputs": [],
   "source": [
    "from sklearn.model_selection import train_test_split"
   ]
  },
  {
   "cell_type": "code",
   "execution_count": 189,
   "metadata": {},
   "outputs": [],
   "source": [
    "X = df_train.drop('elected',axis=1)\n",
    "y = df_train['elected']\n",
    "\n",
    "X_train, X_test, y_train, y_test = train_test_split(X, y, test_size=0.2, random_state=41)"
   ]
  },
  {
   "cell_type": "markdown",
   "metadata": {},
   "source": [
    "**Training and fitting** "
   ]
  },
  {
   "cell_type": "code",
   "execution_count": 192,
   "metadata": {},
   "outputs": [],
   "source": [
    "from sklearn.linear_model import LogisticRegression"
   ]
  },
  {
   "cell_type": "code",
   "execution_count": 193,
   "metadata": {},
   "outputs": [],
   "source": [
    "lr = LogisticRegression()"
   ]
  },
  {
   "cell_type": "code",
   "execution_count": 194,
   "metadata": {},
   "outputs": [
    {
     "data": {
      "text/plain": [
       "LogisticRegression(C=1.0, class_weight=None, dual=False, fit_intercept=True,\n",
       "          intercept_scaling=1, max_iter=100, multi_class='ovr', n_jobs=1,\n",
       "          penalty='l2', random_state=None, solver='liblinear', tol=0.0001,\n",
       "          verbose=0, warm_start=False)"
      ]
     },
     "execution_count": 194,
     "metadata": {},
     "output_type": "execute_result"
    }
   ],
   "source": [
    "lr.fit(X_train,y_train)"
   ]
  },
  {
   "cell_type": "markdown",
   "metadata": {},
   "source": [
    "**Predict using the model**"
   ]
  },
  {
   "cell_type": "code",
   "execution_count": 196,
   "metadata": {},
   "outputs": [],
   "source": [
    "pred = lr.predict(X_test)"
   ]
  },
  {
   "cell_type": "markdown",
   "metadata": {},
   "source": [
    "## Evaluate the Model\n",
    "\n",
    "Using classification report, We can check :\n",
    "    - precision (ratio of correctly predicted positive observations to the total predicted positive observations)\n",
    "    - recall (ratio of correctly predicted positive observations to the all observations in actual class)\n",
    "    - f1-score (measure of a test's accuracy)\n"
   ]
  },
  {
   "cell_type": "code",
   "execution_count": 204,
   "metadata": {},
   "outputs": [],
   "source": [
    "from sklearn.metrics import classification_report, confusion_matrix"
   ]
  },
  {
   "cell_type": "code",
   "execution_count": 206,
   "metadata": {},
   "outputs": [
    {
     "name": "stdout",
     "output_type": "stream",
     "text": [
      "[[80  9]\n",
      " [ 0  0]]\n",
      "-- -- -- --\n",
      "             precision    recall  f1-score   support\n",
      "\n",
      "          0       1.00      0.90      0.95        89\n",
      "          1       0.00      0.00      0.00         0\n",
      "\n",
      "avg / total       1.00      0.90      0.95        89\n",
      "\n"
     ]
    },
    {
     "name": "stderr",
     "output_type": "stream",
     "text": [
      "/Users/4bic/anaconda3/lib/python3.6/site-packages/sklearn/metrics/classification.py:1137: UndefinedMetricWarning: Recall and F-score are ill-defined and being set to 0.0 in labels with no true samples.\n",
      "  'recall', 'true', average, warn_for)\n"
     ]
    }
   ],
   "source": [
    "print(confusion_matrix(pred,y_test))\n",
    "print('-- -- -- --')\n",
    "print (classification_report(pred,y_test))"
   ]
  },
  {
   "cell_type": "code",
   "execution_count": null,
   "metadata": {},
   "outputs": [],
   "source": []
  },
  {
   "cell_type": "code",
   "execution_count": null,
   "metadata": {},
   "outputs": [],
   "source": []
  }
 ],
 "metadata": {
  "kernelspec": {
   "display_name": "Python 3",
   "language": "python",
   "name": "python3"
  },
  "language_info": {
   "codemirror_mode": {
    "name": "ipython",
    "version": 3
   },
   "file_extension": ".py",
   "mimetype": "text/x-python",
   "name": "python",
   "nbconvert_exporter": "python",
   "pygments_lexer": "ipython3",
   "version": "3.6.5"
  }
 },
 "nbformat": 4,
 "nbformat_minor": 2
}
