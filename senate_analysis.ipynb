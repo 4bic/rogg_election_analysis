{
 "cells": [
  {
   "cell_type": "code",
   "execution_count": 11,
   "metadata": {},
   "outputs": [],
   "source": [
    "import numpy as np\n",
    "import pandas as pd \n",
    "import matplotlib.pyplot as plt \n",
    "import seaborn as sns \n",
    "\n",
    "%matplotlib inline "
   ]
  },
  {
   "cell_type": "code",
   "execution_count": 12,
   "metadata": {},
   "outputs": [],
   "source": [
    "# load data"
   ]
  },
  {
   "cell_type": "code",
   "execution_count": null,
   "metadata": {},
   "outputs": [],
   "source": [
    "df_2013 = pd.read_csv('2013_final/senate_2013.csv') #2013 winners"
   ]
  },
  {
   "cell_type": "code",
   "execution_count": 134,
   "metadata": {},
   "outputs": [],
   "source": [
    "df_nom = pd.read_csv('nominations_data/senate_nom.csv') # Primary candidates vying for nominations"
   ]
  },
  {
   "cell_type": "code",
   "execution_count": 145,
   "metadata": {},
   "outputs": [],
   "source": [
    "df_cand = pd.read_csv('candidates_data/senate_2017.csv') #Party candidate / Independent"
   ]
  },
  {
   "cell_type": "code",
   "execution_count": 38,
   "metadata": {},
   "outputs": [],
   "source": [
    "df_2017 = pd.read_csv('2017_final/senate_2017.csv') # 2017 winners"
   ]
  },
  {
   "cell_type": "code",
   "execution_count": 40,
   "metadata": {},
   "outputs": [
    {
     "data": {
      "text/html": [
       "<div>\n",
       "<style>\n",
       "    .dataframe thead tr:only-child th {\n",
       "        text-align: right;\n",
       "    }\n",
       "\n",
       "    .dataframe thead th {\n",
       "        text-align: left;\n",
       "    }\n",
       "\n",
       "    .dataframe tbody tr th {\n",
       "        vertical-align: top;\n",
       "    }\n",
       "</style>\n",
       "<table border=\"1\" class=\"dataframe\">\n",
       "  <thead>\n",
       "    <tr style=\"text-align: right;\">\n",
       "      <th></th>\n",
       "      <th>County Code</th>\n",
       "      <th>Unnamed: 1</th>\n",
       "      <th>Unnamed: 2</th>\n",
       "      <th>Unnamed: 3</th>\n",
       "      <th>County Name</th>\n",
       "      <th>Unnamed: 5</th>\n",
       "      <th>Unnamed: 6</th>\n",
       "      <th>Unnamed: 7</th>\n",
       "      <th>Unnamed: 8</th>\n",
       "      <th>Unnamed: 9</th>\n",
       "      <th>...</th>\n",
       "      <th>Unnamed: 11</th>\n",
       "      <th>Unnamed: 12</th>\n",
       "      <th>Unnamed: 13</th>\n",
       "      <th>Unnamed: 14</th>\n",
       "      <th>Unnamed: 15</th>\n",
       "      <th>Unnamed: 16</th>\n",
       "      <th>Full Names B</th>\n",
       "      <th>Unnamed: 18</th>\n",
       "      <th>Unnamed: 19</th>\n",
       "      <th>Party/Independent Candidate</th>\n",
       "    </tr>\n",
       "  </thead>\n",
       "  <tbody>\n",
       "    <tr>\n",
       "      <th>0</th>\n",
       "      <td>1</td>\n",
       "      <td>NaN</td>\n",
       "      <td>NaN</td>\n",
       "      <td>NaN</td>\n",
       "      <td>Mombasa</td>\n",
       "      <td>NaN</td>\n",
       "      <td>NaN</td>\n",
       "      <td>NaN</td>\n",
       "      <td>NaN</td>\n",
       "      <td>NaN</td>\n",
       "      <td>...</td>\n",
       "      <td>NaN</td>\n",
       "      <td>NaN</td>\n",
       "      <td>NaN</td>\n",
       "      <td>NaN</td>\n",
       "      <td>NaN</td>\n",
       "      <td>NaN</td>\n",
       "      <td>Hassan</td>\n",
       "      <td>NaN</td>\n",
       "      <td>NaN</td>\n",
       "      <td>Wiper Democratic Movement- Kenya</td>\n",
       "    </tr>\n",
       "    <tr>\n",
       "      <th>1</th>\n",
       "      <td>2</td>\n",
       "      <td>NaN</td>\n",
       "      <td>NaN</td>\n",
       "      <td>NaN</td>\n",
       "      <td>Kwale</td>\n",
       "      <td>NaN</td>\n",
       "      <td>NaN</td>\n",
       "      <td>NaN</td>\n",
       "      <td>NaN</td>\n",
       "      <td>NaN</td>\n",
       "      <td>...</td>\n",
       "      <td>NaN</td>\n",
       "      <td>NaN</td>\n",
       "      <td>NaN</td>\n",
       "      <td>NaN</td>\n",
       "      <td>NaN</td>\n",
       "      <td>NaN</td>\n",
       "      <td>Boy</td>\n",
       "      <td>NaN</td>\n",
       "      <td>NaN</td>\n",
       "      <td>Orange Democratic Movement</td>\n",
       "    </tr>\n",
       "    <tr>\n",
       "      <th>2</th>\n",
       "      <td>3</td>\n",
       "      <td>NaN</td>\n",
       "      <td>NaN</td>\n",
       "      <td>NaN</td>\n",
       "      <td>Kilifi</td>\n",
       "      <td>NaN</td>\n",
       "      <td>NaN</td>\n",
       "      <td>NaN</td>\n",
       "      <td>NaN</td>\n",
       "      <td>NaN</td>\n",
       "      <td>...</td>\n",
       "      <td>NaN</td>\n",
       "      <td>NaN</td>\n",
       "      <td>NaN</td>\n",
       "      <td>NaN</td>\n",
       "      <td>NaN</td>\n",
       "      <td>NaN</td>\n",
       "      <td>Madzayo</td>\n",
       "      <td>NaN</td>\n",
       "      <td>NaN</td>\n",
       "      <td>Orange Democratic Movement</td>\n",
       "    </tr>\n",
       "  </tbody>\n",
       "</table>\n",
       "<p>3 rows × 21 columns</p>\n",
       "</div>"
      ],
      "text/plain": [
       "   County Code  Unnamed: 1  Unnamed: 2  Unnamed: 3 County Name  Unnamed: 5  \\\n",
       "0            1         NaN         NaN         NaN     Mombasa         NaN   \n",
       "1            2         NaN         NaN         NaN       Kwale         NaN   \n",
       "2            3         NaN         NaN         NaN      Kilifi         NaN   \n",
       "\n",
       "   Unnamed: 6  Unnamed: 7  Unnamed: 8  Unnamed: 9  \\\n",
       "0         NaN         NaN         NaN         NaN   \n",
       "1         NaN         NaN         NaN         NaN   \n",
       "2         NaN         NaN         NaN         NaN   \n",
       "\n",
       "                 ...                Unnamed: 11  Unnamed: 12  Unnamed: 13  \\\n",
       "0                ...                        NaN          NaN          NaN   \n",
       "1                ...                        NaN          NaN          NaN   \n",
       "2                ...                        NaN          NaN          NaN   \n",
       "\n",
       "   Unnamed: 14  Unnamed: 15  Unnamed: 16  Full Names B Unnamed: 18  \\\n",
       "0          NaN          NaN          NaN        Hassan         NaN   \n",
       "1          NaN          NaN          NaN           Boy         NaN   \n",
       "2          NaN          NaN          NaN       Madzayo         NaN   \n",
       "\n",
       "   Unnamed: 19       Party/Independent Candidate  \n",
       "0          NaN  Wiper Democratic Movement- Kenya  \n",
       "1          NaN        Orange Democratic Movement  \n",
       "2          NaN        Orange Democratic Movement  \n",
       "\n",
       "[3 rows x 21 columns]"
      ]
     },
     "execution_count": 40,
     "metadata": {},
     "output_type": "execute_result"
    }
   ],
   "source": [
    "df_2013.head(3)"
   ]
  },
  {
   "cell_type": "markdown",
   "metadata": {},
   "source": [
    "## Clean 2013 Data"
   ]
  },
  {
   "cell_type": "code",
   "execution_count": 41,
   "metadata": {},
   "outputs": [],
   "source": [
    "df_2013.dropna(axis=1,inplace=True)"
   ]
  },
  {
   "cell_type": "code",
   "execution_count": 43,
   "metadata": {},
   "outputs": [],
   "source": [
    "# join first and last names"
   ]
  },
  {
   "cell_type": "code",
   "execution_count": 44,
   "metadata": {},
   "outputs": [],
   "source": [
    "df_2013['name'] = df_2013[['Full Names A','Full Names B']].apply(lambda x: ' '.join(x), axis=1)"
   ]
  },
  {
   "cell_type": "code",
   "execution_count": 45,
   "metadata": {},
   "outputs": [],
   "source": [
    "df_2013 = df_2013[['County Code','County Name','name', 'Party/Independent Candidate']]"
   ]
  },
  {
   "cell_type": "code",
   "execution_count": 46,
   "metadata": {},
   "outputs": [],
   "source": [
    "df_2013.columns = ['c_code','county','name','party']"
   ]
  },
  {
   "cell_type": "code",
   "execution_count": 48,
   "metadata": {
    "scrolled": false
   },
   "outputs": [
    {
     "data": {
      "text/html": [
       "<div>\n",
       "<style>\n",
       "    .dataframe thead tr:only-child th {\n",
       "        text-align: right;\n",
       "    }\n",
       "\n",
       "    .dataframe thead th {\n",
       "        text-align: left;\n",
       "    }\n",
       "\n",
       "    .dataframe tbody tr th {\n",
       "        vertical-align: top;\n",
       "    }\n",
       "</style>\n",
       "<table border=\"1\" class=\"dataframe\">\n",
       "  <thead>\n",
       "    <tr style=\"text-align: right;\">\n",
       "      <th></th>\n",
       "      <th>c_code</th>\n",
       "      <th>county</th>\n",
       "      <th>name</th>\n",
       "      <th>party</th>\n",
       "    </tr>\n",
       "  </thead>\n",
       "  <tbody>\n",
       "    <tr>\n",
       "      <th>0</th>\n",
       "      <td>1</td>\n",
       "      <td>Mombasa</td>\n",
       "      <td>Hassan Omar Hassan</td>\n",
       "      <td>Wiper Democratic Movement- Kenya</td>\n",
       "    </tr>\n",
       "    <tr>\n",
       "      <th>1</th>\n",
       "      <td>2</td>\n",
       "      <td>Kwale</td>\n",
       "      <td>Boy Juma Boy</td>\n",
       "      <td>Orange Democratic Movement</td>\n",
       "    </tr>\n",
       "    <tr>\n",
       "      <th>2</th>\n",
       "      <td>3</td>\n",
       "      <td>Kilifi</td>\n",
       "      <td>Stewart Mwachiru Shadrack Madzayo</td>\n",
       "      <td>Orange Democratic Movement</td>\n",
       "    </tr>\n",
       "  </tbody>\n",
       "</table>\n",
       "</div>"
      ],
      "text/plain": [
       "   c_code   county                               name  \\\n",
       "0       1  Mombasa                 Hassan Omar Hassan   \n",
       "1       2    Kwale                       Boy Juma Boy   \n",
       "2       3   Kilifi  Stewart Mwachiru Shadrack Madzayo   \n",
       "\n",
       "                              party  \n",
       "0  Wiper Democratic Movement- Kenya  \n",
       "1        Orange Democratic Movement  \n",
       "2        Orange Democratic Movement  "
      ]
     },
     "execution_count": 48,
     "metadata": {},
     "output_type": "execute_result"
    }
   ],
   "source": [
    "df_2013.head(3)"
   ]
  },
  {
   "cell_type": "code",
   "execution_count": 47,
   "metadata": {},
   "outputs": [
    {
     "name": "stdout",
     "output_type": "stream",
     "text": [
      "<class 'pandas.core.frame.DataFrame'>\n",
      "RangeIndex: 47 entries, 0 to 46\n",
      "Data columns (total 4 columns):\n",
      "c_code    47 non-null int64\n",
      "county    47 non-null object\n",
      "name      47 non-null object\n",
      "party     47 non-null object\n",
      "dtypes: int64(1), object(3)\n",
      "memory usage: 1.5+ KB\n"
     ]
    }
   ],
   "source": [
    "df_2013.info()"
   ]
  },
  {
   "cell_type": "markdown",
   "metadata": {},
   "source": [
    "## Clean 2017 Data"
   ]
  },
  {
   "cell_type": "code",
   "execution_count": 50,
   "metadata": {},
   "outputs": [
    {
     "data": {
      "text/html": [
       "<div>\n",
       "<style>\n",
       "    .dataframe thead tr:only-child th {\n",
       "        text-align: right;\n",
       "    }\n",
       "\n",
       "    .dataframe thead th {\n",
       "        text-align: left;\n",
       "    }\n",
       "\n",
       "    .dataframe tbody tr th {\n",
       "        vertical-align: top;\n",
       "    }\n",
       "</style>\n",
       "<table border=\"1\" class=\"dataframe\">\n",
       "  <thead>\n",
       "    <tr style=\"text-align: right;\">\n",
       "      <th></th>\n",
       "      <th>mz_id</th>\n",
       "      <th>id</th>\n",
       "      <th>name</th>\n",
       "      <th>honorific_prefix</th>\n",
       "      <th>honorific_suffix</th>\n",
       "      <th>gender</th>\n",
       "      <th>birth_date</th>\n",
       "      <th>election</th>\n",
       "      <th>party_id</th>\n",
       "      <th>party_name</th>\n",
       "      <th>...</th>\n",
       "      <th>image_url</th>\n",
       "      <th>proxy_image_url_template</th>\n",
       "      <th>image_copyright</th>\n",
       "      <th>image_uploading_user</th>\n",
       "      <th>image_uploading_user_notes</th>\n",
       "      <th>twitter_user_id</th>\n",
       "      <th>election_date</th>\n",
       "      <th>election_current</th>\n",
       "      <th>party_lists_in_use</th>\n",
       "      <th>party_list_position</th>\n",
       "    </tr>\n",
       "  </thead>\n",
       "  <tbody>\n",
       "    <tr>\n",
       "      <th>0</th>\n",
       "      <td>305.0</td>\n",
       "      <td>169</td>\n",
       "      <td>Gideon Kipsielei Towett Moi</td>\n",
       "      <td>NaN</td>\n",
       "      <td>NaN</td>\n",
       "      <td>Male</td>\n",
       "      <td>NaN</td>\n",
       "      <td>se-2017</td>\n",
       "      <td>party:33</td>\n",
       "      <td>Kenya African National Union</td>\n",
       "      <td>...</td>\n",
       "      <td>http://kenya.ynr.mysociety.org/media/images/im...</td>\n",
       "      <td>NaN</td>\n",
       "      <td>profile-photo</td>\n",
       "      <td>jessica_musila</td>\n",
       "      <td>https://scontent.fnbo2-1.fna.fbcdn.net/v/t1.0-...</td>\n",
       "      <td>1.072908e+09</td>\n",
       "      <td>08/08/2017</td>\n",
       "      <td>True</td>\n",
       "      <td>False</td>\n",
       "      <td>NaN</td>\n",
       "    </tr>\n",
       "    <tr>\n",
       "      <th>1</th>\n",
       "      <td>NaN</td>\n",
       "      <td>194</td>\n",
       "      <td>Christopher Andrew Langat</td>\n",
       "      <td>NaN</td>\n",
       "      <td>NaN</td>\n",
       "      <td>Male</td>\n",
       "      <td>NaN</td>\n",
       "      <td>se-2017</td>\n",
       "      <td>party:27</td>\n",
       "      <td>Jubilee Party</td>\n",
       "      <td>...</td>\n",
       "      <td>http://kenya.ynr.mysociety.org/media/images/im...</td>\n",
       "      <td>NaN</td>\n",
       "      <td>profile-photo</td>\n",
       "      <td>jessica_musila</td>\n",
       "      <td>https://scontent.fnbo2-1.fna.fbcdn.net/v/t1.0-...</td>\n",
       "      <td>NaN</td>\n",
       "      <td>08/08/2017</td>\n",
       "      <td>True</td>\n",
       "      <td>False</td>\n",
       "      <td>NaN</td>\n",
       "    </tr>\n",
       "  </tbody>\n",
       "</table>\n",
       "<p>2 rows × 32 columns</p>\n",
       "</div>"
      ],
      "text/plain": [
       "   mz_id   id                         name honorific_prefix  honorific_suffix  \\\n",
       "0  305.0  169  Gideon Kipsielei Towett Moi              NaN               NaN   \n",
       "1    NaN  194    Christopher Andrew Langat              NaN               NaN   \n",
       "\n",
       "  gender birth_date election  party_id                    party_name  \\\n",
       "0   Male        NaN  se-2017  party:33  Kenya African National Union   \n",
       "1   Male        NaN  se-2017  party:27                 Jubilee Party   \n",
       "\n",
       "          ...                                                   image_url  \\\n",
       "0         ...           http://kenya.ynr.mysociety.org/media/images/im...   \n",
       "1         ...           http://kenya.ynr.mysociety.org/media/images/im...   \n",
       "\n",
       "  proxy_image_url_template  image_copyright  image_uploading_user  \\\n",
       "0                      NaN    profile-photo        jessica_musila   \n",
       "1                      NaN    profile-photo        jessica_musila   \n",
       "\n",
       "                          image_uploading_user_notes twitter_user_id  \\\n",
       "0  https://scontent.fnbo2-1.fna.fbcdn.net/v/t1.0-...    1.072908e+09   \n",
       "1  https://scontent.fnbo2-1.fna.fbcdn.net/v/t1.0-...             NaN   \n",
       "\n",
       "  election_date  election_current party_lists_in_use  party_list_position  \n",
       "0    08/08/2017              True              False                  NaN  \n",
       "1    08/08/2017              True              False                  NaN  \n",
       "\n",
       "[2 rows x 32 columns]"
      ]
     },
     "execution_count": 50,
     "metadata": {},
     "output_type": "execute_result"
    }
   ],
   "source": [
    "df_2017.head(2)"
   ]
  },
  {
   "cell_type": "code",
   "execution_count": 51,
   "metadata": {},
   "outputs": [],
   "source": [
    "df_2017 = df_2017[['post_id','post_label','name', 'gender', 'birth_date', 'party_name' ]]"
   ]
  },
  {
   "cell_type": "code",
   "execution_count": 61,
   "metadata": {},
   "outputs": [],
   "source": [
    "df_2017.columns = ['c_code','county','name','gender', 'dob', 'party']"
   ]
  },
  {
   "cell_type": "code",
   "execution_count": 62,
   "metadata": {},
   "outputs": [],
   "source": [
    "df_2017['c_code'] = df_2017['c_code'].str.replace(\"se-\",\"\")"
   ]
  },
  {
   "cell_type": "code",
   "execution_count": 63,
   "metadata": {},
   "outputs": [
    {
     "data": {
      "text/html": [
       "<div>\n",
       "<style>\n",
       "    .dataframe thead tr:only-child th {\n",
       "        text-align: right;\n",
       "    }\n",
       "\n",
       "    .dataframe thead th {\n",
       "        text-align: left;\n",
       "    }\n",
       "\n",
       "    .dataframe tbody tr th {\n",
       "        vertical-align: top;\n",
       "    }\n",
       "</style>\n",
       "<table border=\"1\" class=\"dataframe\">\n",
       "  <thead>\n",
       "    <tr style=\"text-align: right;\">\n",
       "      <th></th>\n",
       "      <th>c_code</th>\n",
       "      <th>county</th>\n",
       "      <th>name</th>\n",
       "      <th>gender</th>\n",
       "      <th>dob</th>\n",
       "      <th>party</th>\n",
       "    </tr>\n",
       "  </thead>\n",
       "  <tbody>\n",
       "    <tr>\n",
       "      <th>0</th>\n",
       "      <td>30</td>\n",
       "      <td>Baringo</td>\n",
       "      <td>Gideon Kipsielei Towett Moi</td>\n",
       "      <td>Male</td>\n",
       "      <td>NaN</td>\n",
       "      <td>Kenya African National Union</td>\n",
       "    </tr>\n",
       "    <tr>\n",
       "      <th>1</th>\n",
       "      <td>36</td>\n",
       "      <td>Bomet</td>\n",
       "      <td>Christopher Andrew Langat</td>\n",
       "      <td>Male</td>\n",
       "      <td>NaN</td>\n",
       "      <td>Jubilee Party</td>\n",
       "    </tr>\n",
       "  </tbody>\n",
       "</table>\n",
       "</div>"
      ],
      "text/plain": [
       "  c_code   county                         name gender  dob  \\\n",
       "0     30  Baringo  Gideon Kipsielei Towett Moi   Male  NaN   \n",
       "1     36    Bomet    Christopher Andrew Langat   Male  NaN   \n",
       "\n",
       "                          party  \n",
       "0  Kenya African National Union  \n",
       "1                 Jubilee Party  "
      ]
     },
     "execution_count": 63,
     "metadata": {},
     "output_type": "execute_result"
    }
   ],
   "source": [
    "df_2017.head(2)"
   ]
  },
  {
   "cell_type": "code",
   "execution_count": 57,
   "metadata": {},
   "outputs": [
    {
     "name": "stdout",
     "output_type": "stream",
     "text": [
      "<class 'pandas.core.frame.DataFrame'>\n",
      "RangeIndex: 47 entries, 0 to 46\n",
      "Data columns (total 6 columns):\n",
      "c_code    47 non-null object\n",
      "county    47 non-null object\n",
      "name      47 non-null object\n",
      "gender    47 non-null object\n",
      "dob       8 non-null object\n",
      "party     47 non-null object\n",
      "dtypes: object(6)\n",
      "memory usage: 2.3+ KB\n"
     ]
    }
   ],
   "source": [
    "df_2017.info()"
   ]
  },
  {
   "cell_type": "markdown",
   "metadata": {},
   "source": [
    "## Clean Nomination 2017 Data"
   ]
  },
  {
   "cell_type": "code",
   "execution_count": 135,
   "metadata": {},
   "outputs": [
    {
     "data": {
      "text/html": [
       "<div>\n",
       "<style>\n",
       "    .dataframe thead tr:only-child th {\n",
       "        text-align: right;\n",
       "    }\n",
       "\n",
       "    .dataframe thead th {\n",
       "        text-align: left;\n",
       "    }\n",
       "\n",
       "    .dataframe tbody tr th {\n",
       "        vertical-align: top;\n",
       "    }\n",
       "</style>\n",
       "<table border=\"1\" class=\"dataframe\">\n",
       "  <thead>\n",
       "    <tr style=\"text-align: right;\">\n",
       "      <th></th>\n",
       "      <th>County\n",
       "Code</th>\n",
       "      <th>County Name</th>\n",
       "      <th>Surname</th>\n",
       "      <th>Other Name</th>\n",
       "      <th>ID. No.</th>\n",
       "      <th>YOB</th>\n",
       "      <th>PWD</th>\n",
       "      <th>Gender</th>\n",
       "      <th>Party</th>\n",
       "      <th>Party_abv</th>\n",
       "    </tr>\n",
       "  </thead>\n",
       "  <tbody>\n",
       "    <tr>\n",
       "      <th>0</th>\n",
       "      <td>1</td>\n",
       "      <td>Mombasa</td>\n",
       "      <td>Kassim</td>\n",
       "      <td>Abdusalaam Ali</td>\n",
       "      <td>10093749</td>\n",
       "      <td>1/1/1970</td>\n",
       "      <td>No</td>\n",
       "      <td>Male</td>\n",
       "      <td>JUBILEE PARTY</td>\n",
       "      <td>JP</td>\n",
       "    </tr>\n",
       "    <tr>\n",
       "      <th>1</th>\n",
       "      <td>1</td>\n",
       "      <td>Mombasa</td>\n",
       "      <td>Swabir</td>\n",
       "      <td>Abuubakar Mahadhi</td>\n",
       "      <td>30474451</td>\n",
       "      <td>8/13/1992</td>\n",
       "      <td>No</td>\n",
       "      <td>Male</td>\n",
       "      <td>JUBILEE PARTY</td>\n",
       "      <td>JP</td>\n",
       "    </tr>\n",
       "    <tr>\n",
       "      <th>2</th>\n",
       "      <td>1</td>\n",
       "      <td>Mombasa</td>\n",
       "      <td>Katana</td>\n",
       "      <td>Hazel Nyamoki</td>\n",
       "      <td>6729577</td>\n",
       "      <td>4/1/1959</td>\n",
       "      <td>No</td>\n",
       "      <td>Female</td>\n",
       "      <td>JUBILEE PARTY</td>\n",
       "      <td>JP</td>\n",
       "    </tr>\n",
       "  </tbody>\n",
       "</table>\n",
       "</div>"
      ],
      "text/plain": [
       "   County\\nCode County Name Surname         Other Name   ID. No.        YOB  \\\n",
       "0             1     Mombasa  Kassim     Abdusalaam Ali  10093749   1/1/1970   \n",
       "1             1     Mombasa  Swabir  Abuubakar Mahadhi  30474451  8/13/1992   \n",
       "2             1     Mombasa  Katana      Hazel Nyamoki   6729577   4/1/1959   \n",
       "\n",
       "  PWD  Gender          Party Party_abv  \n",
       "0  No    Male  JUBILEE PARTY        JP  \n",
       "1  No    Male  JUBILEE PARTY        JP  \n",
       "2  No  Female  JUBILEE PARTY        JP  "
      ]
     },
     "execution_count": 135,
     "metadata": {},
     "output_type": "execute_result"
    }
   ],
   "source": [
    "df_nom.head(3)"
   ]
  },
  {
   "cell_type": "code",
   "execution_count": 136,
   "metadata": {},
   "outputs": [],
   "source": [
    "df_nom['name'] = df_nom[['Other Name','Surname']].apply(lambda x: ' '.join(x), axis=1).str.lower()"
   ]
  },
  {
   "cell_type": "code",
   "execution_count": 137,
   "metadata": {},
   "outputs": [],
   "source": [
    "df_nom = df_nom.drop(['Surname','Other Name'],axis=1)"
   ]
  },
  {
   "cell_type": "code",
   "execution_count": 138,
   "metadata": {},
   "outputs": [],
   "source": [
    "# df_nom.Party = df_nom['Party'].replace('Jubilee','Jubilee Party')"
   ]
  },
  {
   "cell_type": "code",
   "execution_count": 139,
   "metadata": {},
   "outputs": [
    {
     "data": {
      "text/html": [
       "<div>\n",
       "<style>\n",
       "    .dataframe thead tr:only-child th {\n",
       "        text-align: right;\n",
       "    }\n",
       "\n",
       "    .dataframe thead th {\n",
       "        text-align: left;\n",
       "    }\n",
       "\n",
       "    .dataframe tbody tr th {\n",
       "        vertical-align: top;\n",
       "    }\n",
       "</style>\n",
       "<table border=\"1\" class=\"dataframe\">\n",
       "  <thead>\n",
       "    <tr style=\"text-align: right;\">\n",
       "      <th></th>\n",
       "      <th>County\n",
       "Code</th>\n",
       "      <th>County Name</th>\n",
       "      <th>ID. No.</th>\n",
       "      <th>YOB</th>\n",
       "      <th>PWD</th>\n",
       "      <th>Gender</th>\n",
       "      <th>Party</th>\n",
       "      <th>Party_abv</th>\n",
       "      <th>name</th>\n",
       "    </tr>\n",
       "  </thead>\n",
       "  <tbody>\n",
       "    <tr>\n",
       "      <th>0</th>\n",
       "      <td>1</td>\n",
       "      <td>Mombasa</td>\n",
       "      <td>10093749</td>\n",
       "      <td>1/1/1970</td>\n",
       "      <td>No</td>\n",
       "      <td>Male</td>\n",
       "      <td>JUBILEE PARTY</td>\n",
       "      <td>JP</td>\n",
       "      <td>abdusalaam ali kassim</td>\n",
       "    </tr>\n",
       "    <tr>\n",
       "      <th>1</th>\n",
       "      <td>1</td>\n",
       "      <td>Mombasa</td>\n",
       "      <td>30474451</td>\n",
       "      <td>8/13/1992</td>\n",
       "      <td>No</td>\n",
       "      <td>Male</td>\n",
       "      <td>JUBILEE PARTY</td>\n",
       "      <td>JP</td>\n",
       "      <td>abuubakar mahadhi swabir</td>\n",
       "    </tr>\n",
       "  </tbody>\n",
       "</table>\n",
       "</div>"
      ],
      "text/plain": [
       "   County\\nCode County Name   ID. No.        YOB PWD Gender          Party  \\\n",
       "0             1     Mombasa  10093749   1/1/1970  No   Male  JUBILEE PARTY   \n",
       "1             1     Mombasa  30474451  8/13/1992  No   Male  JUBILEE PARTY   \n",
       "\n",
       "  Party_abv                      name  \n",
       "0        JP     abdusalaam ali kassim  \n",
       "1        JP  abuubakar mahadhi swabir  "
      ]
     },
     "execution_count": 139,
     "metadata": {},
     "output_type": "execute_result"
    }
   ],
   "source": [
    "df_nom.head(2)"
   ]
  },
  {
   "cell_type": "code",
   "execution_count": 140,
   "metadata": {},
   "outputs": [],
   "source": [
    "df_nom.columns = ['c_code','county','id_no','yob','pwd','gender','party','party_abv','name']"
   ]
  },
  {
   "cell_type": "code",
   "execution_count": 141,
   "metadata": {},
   "outputs": [],
   "source": [
    "df_nom = df_nom[['c_code','county','name','id_no','yob','pwd','gender','party_abv']]"
   ]
  },
  {
   "cell_type": "code",
   "execution_count": 142,
   "metadata": {},
   "outputs": [
    {
     "data": {
      "text/html": [
       "<div>\n",
       "<style>\n",
       "    .dataframe thead tr:only-child th {\n",
       "        text-align: right;\n",
       "    }\n",
       "\n",
       "    .dataframe thead th {\n",
       "        text-align: left;\n",
       "    }\n",
       "\n",
       "    .dataframe tbody tr th {\n",
       "        vertical-align: top;\n",
       "    }\n",
       "</style>\n",
       "<table border=\"1\" class=\"dataframe\">\n",
       "  <thead>\n",
       "    <tr style=\"text-align: right;\">\n",
       "      <th></th>\n",
       "      <th>c_code</th>\n",
       "      <th>county</th>\n",
       "      <th>name</th>\n",
       "      <th>id_no</th>\n",
       "      <th>yob</th>\n",
       "      <th>pwd</th>\n",
       "      <th>gender</th>\n",
       "      <th>party_abv</th>\n",
       "    </tr>\n",
       "  </thead>\n",
       "  <tbody>\n",
       "    <tr>\n",
       "      <th>0</th>\n",
       "      <td>1</td>\n",
       "      <td>Mombasa</td>\n",
       "      <td>abdusalaam ali kassim</td>\n",
       "      <td>10093749</td>\n",
       "      <td>1/1/1970</td>\n",
       "      <td>No</td>\n",
       "      <td>Male</td>\n",
       "      <td>JP</td>\n",
       "    </tr>\n",
       "    <tr>\n",
       "      <th>1</th>\n",
       "      <td>1</td>\n",
       "      <td>Mombasa</td>\n",
       "      <td>abuubakar mahadhi swabir</td>\n",
       "      <td>30474451</td>\n",
       "      <td>8/13/1992</td>\n",
       "      <td>No</td>\n",
       "      <td>Male</td>\n",
       "      <td>JP</td>\n",
       "    </tr>\n",
       "    <tr>\n",
       "      <th>2</th>\n",
       "      <td>1</td>\n",
       "      <td>Mombasa</td>\n",
       "      <td>hazel nyamoki katana</td>\n",
       "      <td>6729577</td>\n",
       "      <td>4/1/1959</td>\n",
       "      <td>No</td>\n",
       "      <td>Female</td>\n",
       "      <td>JP</td>\n",
       "    </tr>\n",
       "  </tbody>\n",
       "</table>\n",
       "</div>"
      ],
      "text/plain": [
       "   c_code   county                      name     id_no        yob pwd  gender  \\\n",
       "0       1  Mombasa     abdusalaam ali kassim  10093749   1/1/1970  No    Male   \n",
       "1       1  Mombasa  abuubakar mahadhi swabir  30474451  8/13/1992  No    Male   \n",
       "2       1  Mombasa      hazel nyamoki katana   6729577   4/1/1959  No  Female   \n",
       "\n",
       "  party_abv  \n",
       "0        JP  \n",
       "1        JP  \n",
       "2        JP  "
      ]
     },
     "execution_count": 142,
     "metadata": {},
     "output_type": "execute_result"
    }
   ],
   "source": [
    "df_nom.head(3)"
   ]
  },
  {
   "cell_type": "code",
   "execution_count": 143,
   "metadata": {},
   "outputs": [
    {
     "name": "stdout",
     "output_type": "stream",
     "text": [
      "<class 'pandas.core.frame.DataFrame'>\n",
      "RangeIndex: 236 entries, 0 to 235\n",
      "Data columns (total 8 columns):\n",
      "c_code       236 non-null int64\n",
      "county       236 non-null object\n",
      "name         236 non-null object\n",
      "id_no        233 non-null object\n",
      "yob          172 non-null object\n",
      "pwd          169 non-null object\n",
      "gender       235 non-null object\n",
      "party_abv    236 non-null object\n",
      "dtypes: int64(1), object(7)\n",
      "memory usage: 14.8+ KB\n"
     ]
    }
   ],
   "source": [
    "df_nom.info()"
   ]
  },
  {
   "cell_type": "markdown",
   "metadata": {},
   "source": [
    "## Clean Candidates 2017 Data"
   ]
  },
  {
   "cell_type": "code",
   "execution_count": 146,
   "metadata": {},
   "outputs": [
    {
     "data": {
      "text/html": [
       "<div>\n",
       "<style>\n",
       "    .dataframe thead tr:only-child th {\n",
       "        text-align: right;\n",
       "    }\n",
       "\n",
       "    .dataframe thead th {\n",
       "        text-align: left;\n",
       "    }\n",
       "\n",
       "    .dataframe tbody tr th {\n",
       "        vertical-align: top;\n",
       "    }\n",
       "</style>\n",
       "<table border=\"1\" class=\"dataframe\">\n",
       "  <thead>\n",
       "    <tr style=\"text-align: right;\">\n",
       "      <th></th>\n",
       "      <th>No</th>\n",
       "      <th>Surname</th>\n",
       "      <th>Other Names</th>\n",
       "      <th>County Code</th>\n",
       "      <th>County Name</th>\n",
       "      <th>Party Code</th>\n",
       "      <th>Political Party Name</th>\n",
       "      <th>Abbrv</th>\n",
       "      <th>Gender</th>\n",
       "    </tr>\n",
       "  </thead>\n",
       "  <tbody>\n",
       "    <tr>\n",
       "      <th>0</th>\n",
       "      <td>1</td>\n",
       "      <td>BAJABER</td>\n",
       "      <td>YASSER ALI SHEIKH</td>\n",
       "      <td>1</td>\n",
       "      <td>MOMBASA</td>\n",
       "      <td>23</td>\n",
       "      <td>FORUM FOR RESTORATION OF DEMOCRACY-KENYA</td>\n",
       "      <td>FORD-KENYA</td>\n",
       "      <td>Male</td>\n",
       "    </tr>\n",
       "    <tr>\n",
       "      <th>1</th>\n",
       "      <td>2</td>\n",
       "      <td>CHOME</td>\n",
       "      <td>ONESMAS HABEL</td>\n",
       "      <td>1</td>\n",
       "      <td>MOMBASA</td>\n",
       "      <td>42</td>\n",
       "      <td>SHIRIKISHO PARTY OF KENYA</td>\n",
       "      <td>SPK</td>\n",
       "      <td>Male</td>\n",
       "    </tr>\n",
       "    <tr>\n",
       "      <th>2</th>\n",
       "      <td>3</td>\n",
       "      <td>FONDO</td>\n",
       "      <td>FLORENCE WAWUDA</td>\n",
       "      <td>1</td>\n",
       "      <td>MOMBASA</td>\n",
       "      <td>60</td>\n",
       "      <td>VIBRANT DEMOCRATIC PARTY</td>\n",
       "      <td>VDP</td>\n",
       "      <td>Female</td>\n",
       "    </tr>\n",
       "  </tbody>\n",
       "</table>\n",
       "</div>"
      ],
      "text/plain": [
       "  No  Surname        Other Names  County Code County Name Party Code  \\\n",
       "0  1  BAJABER  YASSER ALI SHEIKH            1     MOMBASA         23   \n",
       "1  2    CHOME      ONESMAS HABEL            1     MOMBASA         42   \n",
       "2  3    FONDO    FLORENCE WAWUDA            1     MOMBASA         60   \n",
       "\n",
       "                       Political Party Name       Abbrv  Gender  \n",
       "0  FORUM FOR RESTORATION OF DEMOCRACY-KENYA  FORD-KENYA    Male  \n",
       "1                 SHIRIKISHO PARTY OF KENYA         SPK    Male  \n",
       "2                  VIBRANT DEMOCRATIC PARTY         VDP  Female  "
      ]
     },
     "execution_count": 146,
     "metadata": {},
     "output_type": "execute_result"
    }
   ],
   "source": [
    "df_cand.head(3)"
   ]
  },
  {
   "cell_type": "code",
   "execution_count": 147,
   "metadata": {},
   "outputs": [],
   "source": [
    "df_cand['name'] = df_cand[['Other Names','Surname']].apply(lambda x: ' '.join(x), axis=1).str.lower()"
   ]
  },
  {
   "cell_type": "code",
   "execution_count": 148,
   "metadata": {},
   "outputs": [],
   "source": [
    "df_cand = df_cand.drop(['Surname','Other Names'],axis=1)"
   ]
  },
  {
   "cell_type": "code",
   "execution_count": 149,
   "metadata": {},
   "outputs": [],
   "source": [
    "df_cand = df_cand[['County Code', 'County Name', 'name','Gender','Abbrv']]"
   ]
  },
  {
   "cell_type": "code",
   "execution_count": 150,
   "metadata": {},
   "outputs": [],
   "source": [
    "df_cand.columns = ['c_code','county','name','gender','party_abv']"
   ]
  },
  {
   "cell_type": "code",
   "execution_count": 151,
   "metadata": {},
   "outputs": [
    {
     "data": {
      "text/html": [
       "<div>\n",
       "<style>\n",
       "    .dataframe thead tr:only-child th {\n",
       "        text-align: right;\n",
       "    }\n",
       "\n",
       "    .dataframe thead th {\n",
       "        text-align: left;\n",
       "    }\n",
       "\n",
       "    .dataframe tbody tr th {\n",
       "        vertical-align: top;\n",
       "    }\n",
       "</style>\n",
       "<table border=\"1\" class=\"dataframe\">\n",
       "  <thead>\n",
       "    <tr style=\"text-align: right;\">\n",
       "      <th></th>\n",
       "      <th>c_code</th>\n",
       "      <th>county</th>\n",
       "      <th>name</th>\n",
       "      <th>gender</th>\n",
       "      <th>party_abv</th>\n",
       "    </tr>\n",
       "  </thead>\n",
       "  <tbody>\n",
       "    <tr>\n",
       "      <th>0</th>\n",
       "      <td>1</td>\n",
       "      <td>MOMBASA</td>\n",
       "      <td>yasser ali sheikh bajaber</td>\n",
       "      <td>Male</td>\n",
       "      <td>FORD-KENYA</td>\n",
       "    </tr>\n",
       "    <tr>\n",
       "      <th>1</th>\n",
       "      <td>1</td>\n",
       "      <td>MOMBASA</td>\n",
       "      <td>onesmas habel chome</td>\n",
       "      <td>Male</td>\n",
       "      <td>SPK</td>\n",
       "    </tr>\n",
       "    <tr>\n",
       "      <th>2</th>\n",
       "      <td>1</td>\n",
       "      <td>MOMBASA</td>\n",
       "      <td>florence wawuda fondo</td>\n",
       "      <td>Female</td>\n",
       "      <td>VDP</td>\n",
       "    </tr>\n",
       "  </tbody>\n",
       "</table>\n",
       "</div>"
      ],
      "text/plain": [
       "   c_code   county                       name  gender   party_abv\n",
       "0       1  MOMBASA  yasser ali sheikh bajaber    Male  FORD-KENYA\n",
       "1       1  MOMBASA        onesmas habel chome    Male         SPK\n",
       "2       1  MOMBASA      florence wawuda fondo  Female         VDP"
      ]
     },
     "execution_count": 151,
     "metadata": {},
     "output_type": "execute_result"
    }
   ],
   "source": [
    "df_cand.head(3)"
   ]
  },
  {
   "cell_type": "code",
   "execution_count": 152,
   "metadata": {},
   "outputs": [
    {
     "name": "stdout",
     "output_type": "stream",
     "text": [
      "<class 'pandas.core.frame.DataFrame'>\n",
      "RangeIndex: 257 entries, 0 to 256\n",
      "Data columns (total 5 columns):\n",
      "c_code       257 non-null int64\n",
      "county       257 non-null object\n",
      "name         257 non-null object\n",
      "gender       257 non-null object\n",
      "party_abv    257 non-null object\n",
      "dtypes: int64(1), object(4)\n",
      "memory usage: 10.1+ KB\n"
     ]
    }
   ],
   "source": [
    "df_cand.info()"
   ]
  },
  {
   "cell_type": "markdown",
   "metadata": {},
   "source": [
    "###  Merge the details from all the dataset"
   ]
  },
  {
   "cell_type": "code",
   "execution_count": 82,
   "metadata": {},
   "outputs": [
    {
     "data": {
      "text/plain": [
       "Index(['c_code', 'county', 'name', 'party'], dtype='object')"
      ]
     },
     "execution_count": 82,
     "metadata": {},
     "output_type": "execute_result"
    }
   ],
   "source": [
    "df_2013.columns"
   ]
  },
  {
   "cell_type": "code",
   "execution_count": 83,
   "metadata": {},
   "outputs": [
    {
     "data": {
      "text/plain": [
       "Index(['c_code', 'county', 'name', 'gender', 'dob', 'party'], dtype='object')"
      ]
     },
     "execution_count": 83,
     "metadata": {},
     "output_type": "execute_result"
    }
   ],
   "source": [
    "df_2017.columns"
   ]
  },
  {
   "cell_type": "code",
   "execution_count": 153,
   "metadata": {},
   "outputs": [
    {
     "data": {
      "text/plain": [
       "Index(['c_code', 'county', 'name', 'id_no', 'yob', 'pwd', 'gender',\n",
       "       'party_abv'],\n",
       "      dtype='object')"
      ]
     },
     "execution_count": 153,
     "metadata": {},
     "output_type": "execute_result"
    }
   ],
   "source": [
    "df_nom.columns"
   ]
  },
  {
   "cell_type": "code",
   "execution_count": 154,
   "metadata": {},
   "outputs": [
    {
     "data": {
      "text/plain": [
       "Index(['c_code', 'county', 'name', 'gender', 'party_abv'], dtype='object')"
      ]
     },
     "execution_count": 154,
     "metadata": {},
     "output_type": "execute_result"
    }
   ],
   "source": [
    "df_cand.columns"
   ]
  },
  {
   "cell_type": "markdown",
   "metadata": {},
   "source": [
    "**Projected steps**\n",
    "- concat nominations and final candidates datasets\n",
    "- add column `2013` with a yes(1) or No(0) to this dataset\n",
    "- add `won` column with yes(1) or No(0)"
   ]
  },
  {
   "cell_type": "code",
   "execution_count": 155,
   "metadata": {},
   "outputs": [],
   "source": [
    "candidates = pd.concat([df_nom,df_cand])"
   ]
  },
  {
   "cell_type": "code",
   "execution_count": 194,
   "metadata": {
    "scrolled": true
   },
   "outputs": [
    {
     "data": {
      "text/html": [
       "<div>\n",
       "<style>\n",
       "    .dataframe thead tr:only-child th {\n",
       "        text-align: right;\n",
       "    }\n",
       "\n",
       "    .dataframe thead th {\n",
       "        text-align: left;\n",
       "    }\n",
       "\n",
       "    .dataframe tbody tr th {\n",
       "        vertical-align: top;\n",
       "    }\n",
       "</style>\n",
       "<table border=\"1\" class=\"dataframe\">\n",
       "  <thead>\n",
       "    <tr style=\"text-align: right;\">\n",
       "      <th></th>\n",
       "      <th>c_code</th>\n",
       "      <th>county</th>\n",
       "      <th>gender</th>\n",
       "      <th>id_no</th>\n",
       "      <th>name</th>\n",
       "      <th>party_abv</th>\n",
       "      <th>pwd</th>\n",
       "      <th>yob</th>\n",
       "    </tr>\n",
       "  </thead>\n",
       "  <tbody>\n",
       "    <tr>\n",
       "      <th>0</th>\n",
       "      <td>1</td>\n",
       "      <td>Mombasa</td>\n",
       "      <td>Male</td>\n",
       "      <td>10093749</td>\n",
       "      <td>abdusalaam ali kassim</td>\n",
       "      <td>JP</td>\n",
       "      <td>No</td>\n",
       "      <td>1/1/1970</td>\n",
       "    </tr>\n",
       "    <tr>\n",
       "      <th>1</th>\n",
       "      <td>1</td>\n",
       "      <td>Mombasa</td>\n",
       "      <td>Male</td>\n",
       "      <td>30474451</td>\n",
       "      <td>abuubakar mahadhi swabir</td>\n",
       "      <td>JP</td>\n",
       "      <td>No</td>\n",
       "      <td>8/13/1992</td>\n",
       "    </tr>\n",
       "    <tr>\n",
       "      <th>2</th>\n",
       "      <td>1</td>\n",
       "      <td>Mombasa</td>\n",
       "      <td>Female</td>\n",
       "      <td>6729577</td>\n",
       "      <td>hazel nyamoki katana</td>\n",
       "      <td>JP</td>\n",
       "      <td>No</td>\n",
       "      <td>4/1/1959</td>\n",
       "    </tr>\n",
       "  </tbody>\n",
       "</table>\n",
       "</div>"
      ],
      "text/plain": [
       "   c_code   county  gender     id_no                      name party_abv pwd  \\\n",
       "0       1  Mombasa    Male  10093749     abdusalaam ali kassim        JP  No   \n",
       "1       1  Mombasa    Male  30474451  abuubakar mahadhi swabir        JP  No   \n",
       "2       1  Mombasa  Female   6729577      hazel nyamoki katana        JP  No   \n",
       "\n",
       "         yob  \n",
       "0   1/1/1970  \n",
       "1  8/13/1992  \n",
       "2   4/1/1959  "
      ]
     },
     "execution_count": 194,
     "metadata": {},
     "output_type": "execute_result"
    }
   ],
   "source": [
    "candidates.head(3)"
   ]
  },
  {
   "cell_type": "code",
   "execution_count": 195,
   "metadata": {
    "scrolled": true
   },
   "outputs": [
    {
     "name": "stdout",
     "output_type": "stream",
     "text": [
      "<class 'pandas.core.frame.DataFrame'>\n",
      "Int64Index: 493 entries, 0 to 256\n",
      "Data columns (total 8 columns):\n",
      "c_code       493 non-null int64\n",
      "county       493 non-null object\n",
      "gender       492 non-null object\n",
      "id_no        233 non-null object\n",
      "name         493 non-null object\n",
      "party_abv    493 non-null object\n",
      "pwd          169 non-null object\n",
      "yob          172 non-null object\n",
      "dtypes: int64(1), object(7)\n",
      "memory usage: 44.7+ KB\n"
     ]
    }
   ],
   "source": [
    "candidates.info()"
   ]
  },
  {
   "cell_type": "markdown",
   "metadata": {},
   "source": [
    "**fill `birth_year` with mean `yob` **"
   ]
  },
  {
   "cell_type": "code",
   "execution_count": 252,
   "metadata": {},
   "outputs": [],
   "source": [
    "candidates['birth_year'] = candidates['yob'].str.split('/').str.get(2).apply(pd.to_numeric)"
   ]
  },
  {
   "cell_type": "code",
   "execution_count": 253,
   "metadata": {},
   "outputs": [],
   "source": [
    "candidates['birth_year'] = candidates['birth_year'].fillna(candidates['birth_year'].mean()).round(0).astype(int)"
   ]
  },
  {
   "cell_type": "code",
   "execution_count": 256,
   "metadata": {},
   "outputs": [
    {
     "name": "stdout",
     "output_type": "stream",
     "text": [
      "<class 'pandas.core.frame.DataFrame'>\n",
      "Int64Index: 493 entries, 0 to 256\n",
      "Data columns (total 9 columns):\n",
      "c_code        493 non-null int64\n",
      "county        493 non-null object\n",
      "gender        492 non-null object\n",
      "id_no         233 non-null object\n",
      "name          493 non-null object\n",
      "party_abv     493 non-null object\n",
      "pwd           169 non-null object\n",
      "yob           172 non-null object\n",
      "birth_year    493 non-null int64\n",
      "dtypes: int64(2), object(7)\n",
      "memory usage: 48.5+ KB\n"
     ]
    }
   ],
   "source": [
    "candidates.info()"
   ]
  },
  {
   "cell_type": "code",
   "execution_count": null,
   "metadata": {},
   "outputs": [],
   "source": []
  },
  {
   "cell_type": "code",
   "execution_count": null,
   "metadata": {},
   "outputs": [],
   "source": []
  },
  {
   "cell_type": "code",
   "execution_count": 197,
   "metadata": {},
   "outputs": [],
   "source": [
    "from fuzzywuzzy import fuzz, process"
   ]
  },
  {
   "cell_type": "code",
   "execution_count": 199,
   "metadata": {},
   "outputs": [
    {
     "data": {
      "text/plain": [
       "46"
      ]
     },
     "execution_count": 199,
     "metadata": {},
     "output_type": "execute_result"
    }
   ],
   "source": [
    "fuzz.ratio(candidates['name'][1],candidates['name'][2])"
   ]
  },
  {
   "cell_type": "code",
   "execution_count": 158,
   "metadata": {},
   "outputs": [],
   "source": [
    "# party_abv = {'narc_kenya':\t'national rainbow coalition-kenya', 'nvp':\t'the national vision', 'lpk':\t'labour party of kenya', 'cmd':\t'chama mwangaza daima', 'pick':\t'party of independent candidates', 'rbk':\t'restore and build kenya', 'knc':\t'kenya national congress', 'mgpk':\t'mazingira greens party of kenya', 'wdm_k':\t'wiper democratic movement- kenya', 'dp':\t'democratic party of kenya', 'pnu':\t'party of national unity', 'pdr':\t'party for development and reform', 'agano':\t'agano party', 'ksc':\t'kenya social congress', 'odm':\t'orange democratic movement', 'ppk':\t'peoples party of kenya', 'ford_kenya':\t'forum for restoration of democracy-kenya', 'ppok':\t'progressive party of kenya', 'jp':\t'jubilee party', 'mdp':\t'maendeleo democratic', 'narc':\t'national rainbow coalition', 'kadu_asili':   'kenya african democratic union-asili', 'kpp':\t'kenya patriots party', 'sdp':\t'social democratic party of kenya', 'kanu':\t'kenya african national union', 'safina':\t'safina', 'ccu':\t'chama cha uzalendo', 'napk':\t'national agenda party of kenya', 'pep':\t'peoples empowerment party', 'pdp':\t'peoples democratic party', 'nd':\t'new democrats', 'udm':\t'united democratic movement', 'spk':\t'shirikisho party of kenya', 'pdu':\t'party of democratic  unity', 'fap':\t'frontier alliance party', 'fp':\t'farmers party', 'efp':\t'economic freedom party', 'fpk':\t'federal party of kenya', 'muungano':\t'muungano party', 'npk':\t'national party of kenya', 'mss':\t'mzalendo saba saba party', 'kenda':\t'kenya national democratic alliance', 'ccm':\t'chama cha mashinani', 'ark':\t'alliance for real change', 'ford':\t'forum for republican democracy', 'rlp':\t'republican liberty party', 'rpk':\t'roots party of kenya', 'vdp':\t'vibrant democratic party', 'ccp':\t'citizens convention party', 'anc':\t'amani national congress', 'dpk':\t'devolution party of kenya', 'udp':\t'united democratic', 'dda':\t'diligence development alliance', 'ptp':\t'peoples trust party', 'mccp':\t'maendeleo chap chap party', 'dc':\t'democratic congress', 'ldp':\t'liberal democratic party', 'gck':\t'green congress of kenya', 'nlp':\t'national liberal party', 'mdg':\t'movement for democracy and growth', 'alpk':\t'alternative leadership party of kenya', 'up':\t'ukweli party', 'elp':\t'empowerment and liberation party', 'tak':\t'thirdway alliance kenya', 'jfp':\t'justice and freedom party', 'ind':\t'independent'}"
   ]
  },
  {
   "cell_type": "code",
   "execution_count": null,
   "metadata": {},
   "outputs": [],
   "source": []
  }
 ],
 "metadata": {
  "kernelspec": {
   "display_name": "Python 3",
   "language": "python",
   "name": "python3"
  },
  "language_info": {
   "codemirror_mode": {
    "name": "ipython",
    "version": 3
   },
   "file_extension": ".py",
   "mimetype": "text/x-python",
   "name": "python",
   "nbconvert_exporter": "python",
   "pygments_lexer": "ipython3",
   "version": "3.6.5"
  }
 },
 "nbformat": 4,
 "nbformat_minor": 2
}
